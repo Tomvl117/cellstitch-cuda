{
 "cells": [
  {
   "cell_type": "code",
   "execution_count": 1,
   "id": "4d534d7e",
   "metadata": {},
   "outputs": [
    {
     "ename": "ModuleNotFoundError",
     "evalue": "No module named 'cellstitch'",
     "output_type": "error",
     "traceback": [
      "\u001b[0;31m---------------------------------------------------------------------------\u001b[0m",
      "\u001b[0;31mModuleNotFoundError\u001b[0m                       Traceback (most recent call last)",
      "Input \u001b[0;32mIn [1]\u001b[0m, in \u001b[0;36m<cell line: 1>\u001b[0;34m()\u001b[0m\n\u001b[0;32m----> 1\u001b[0m \u001b[38;5;28;01mfrom\u001b[39;00m \u001b[38;5;21;01mcellstitch\u001b[39;00m\u001b[38;5;21;01m.\u001b[39;00m\u001b[38;5;21;01mutils\u001b[39;00m \u001b[38;5;28;01mimport\u001b[39;00m \u001b[38;5;241m*\u001b[39m\n\u001b[1;32m      2\u001b[0m \u001b[38;5;28;01mimport\u001b[39;00m \u001b[38;5;21;01mnumpy\u001b[39;00m \u001b[38;5;28;01mas\u001b[39;00m \u001b[38;5;21;01mnp\u001b[39;00m\n\u001b[1;32m      3\u001b[0m \u001b[38;5;28;01mimport\u001b[39;00m \u001b[38;5;21;01mh5py\u001b[39;00m\n",
      "\u001b[0;31mModuleNotFoundError\u001b[0m: No module named 'cellstitch'"
     ]
    }
   ],
   "source": [
    "from cellstitch.utils import *\n",
    "import numpy as np\n",
    "import h5py"
   ]
  },
  {
   "cell_type": "markdown",
   "id": "026331d4",
   "metadata": {},
   "source": [
    "# Anistropic Raw Data and Labels"
   ]
  },
  {
   "cell_type": "code",
   "execution_count": 2,
   "id": "e0da0384",
   "metadata": {},
   "outputs": [],
   "source": [
    "dataset_path = \"../DATA/ATAS/\""
   ]
  },
  {
   "cell_type": "code",
   "execution_count": 10,
   "id": "270147d4",
   "metadata": {},
   "outputs": [],
   "source": [
    "anisotropy = 10"
   ]
  },
  {
   "cell_type": "code",
   "execution_count": 11,
   "id": "72117dd5",
   "metadata": {},
   "outputs": [],
   "source": [
    "subsampled_path = \"../DATA/ATAS_10/\""
   ]
  },
  {
   "cell_type": "code",
   "execution_count": 12,
   "id": "d43695c2",
   "metadata": {},
   "outputs": [],
   "source": [
    "filenames = get_filenames(dataset_path + \"raw\")"
   ]
  },
  {
   "cell_type": "code",
   "execution_count": 13,
   "id": "57562bfe",
   "metadata": {},
   "outputs": [],
   "source": [
    "for filename in filenames: \n",
    "    raw = np.load(\"%sraw/%s\" % (dataset_path, filename))\n",
    "    labels = np.load(\"%slabels/%s\" % (dataset_path, filename))\n",
    "    depth = raw.shape[0]\n",
    "    \n",
    "    subsampled_raw = [] \n",
    "    subsampled_labels = []\n",
    "    for i in range(0, depth, anisotropy):\n",
    "        subsampled_raw.append(raw[i])\n",
    "        subsampled_labels.append(labels[i])\n",
    "    \n",
    "    subsampled_raw = np.array(subsampled_raw) \n",
    "    subsampled_labels = np.array(subsampled_labels)\n",
    "    \n",
    "    np.save(\"%sraw/%s\" % (subsampled_path, filename), subsampled_raw)\n",
    "    np.save(\"%slabels/%s\" % (subsampled_path, filename), subsampled_labels)"
   ]
  },
  {
   "cell_type": "markdown",
   "id": "b161867e",
   "metadata": {},
   "source": [
    "### Test Data for PlantSeg"
   ]
  },
  {
   "cell_type": "code",
   "execution_count": 31,
   "id": "c994cfdd",
   "metadata": {},
   "outputs": [],
   "source": [
    "subsampled_plantseg_test_path = \"../data/ovules_subsampled/plantseg_test/\"\n",
    "plantseg_test_path = \"../data/ovules/plantseg_test/\""
   ]
  },
  {
   "cell_type": "code",
   "execution_count": 32,
   "id": "b9a1472b",
   "metadata": {},
   "outputs": [],
   "source": [
    "test_filenames = [\"N_294_final_crop_ds2\", \n",
    "                 \"N_435_final_crop_ds2\",\n",
    "                 \"N_441_final_crop_ds2\",\n",
    "                 \"N_511_final_crop_ds2\",\n",
    "                 \"N_522_final_crop_ds2\",\n",
    "                 \"N_590_final_crop_ds2\",\n",
    "                 \"N_593_final_crop_ds2\"]"
   ]
  },
  {
   "cell_type": "code",
   "execution_count": 34,
   "id": "9676a651",
   "metadata": {},
   "outputs": [],
   "source": [
    "test_filename = test_filenames[0]"
   ]
  },
  {
   "cell_type": "code",
   "execution_count": 51,
   "id": "a3a2906e",
   "metadata": {},
   "outputs": [],
   "source": [
    "for test_filename in test_filenames: \n",
    "    with h5py.File(\"%s/%s.h5\" % (plantseg_test_path, test_filename), \"r\") as f:\n",
    "        labels = f['label'][:]\n",
    "        raw = f['raw'][:]\n",
    "    \n",
    "    depth = raw.shape[0]\n",
    "    \n",
    "    subsampled_raw = [] \n",
    "    subsampled_labels = []\n",
    "    for i in range(0, depth, anistropy):\n",
    "        subsampled_raw.append(raw[i])\n",
    "        subsampled_labels.append(labels[i])\n",
    "\n",
    "    subsampled_raw = np.array(subsampled_raw) \n",
    "    subsampled_labels = np.array(subsampled_labels)\n",
    "    \n",
    "    with h5py.File(\"%s/%s.h5\" % (subsampled_plantseg_test_path, test_filename), 'w') as hf:\n",
    "        hf.create_dataset(\"label\",  data=subsampled_labels)\n",
    "        hf.create_dataset(\"raw\",  data=subsampled_raw)"
   ]
  },
  {
   "cell_type": "markdown",
   "id": "ebd41376",
   "metadata": {},
   "source": [
    "For plant data"
   ]
  },
  {
   "cell_type": "code",
   "execution_count": 11,
   "id": "4fa96e05",
   "metadata": {},
   "outputs": [],
   "source": [
    "datasets = [\"Anther\", \"Filament\", \"Pedicel\", \"Valve\", \"Leaf\", \"Sepal\"]"
   ]
  },
  {
   "cell_type": "code",
   "execution_count": 12,
   "id": "f3935854",
   "metadata": {},
   "outputs": [
    {
     "name": "stdout",
     "output_type": "stream",
     "text": [
      "Starting Anther ...\n",
      "Starting Filament ...\n",
      "Starting Pedicel ...\n",
      "Starting Valve ...\n",
      "Starting Leaf ...\n",
      "Starting Sepal ...\n"
     ]
    }
   ],
   "source": [
    "for dataset in datasets: \n",
    "    print(\"Starting %s ...\" % dataset)\n",
    "    for i in range(30, 100): \n",
    "        test_filename = \"%s_%02d\" % (dataset, i)\n",
    "        img = np.load(\"../DATA/%s/%s.npy\" % (dataset, test_filename))\n",
    "        labels = np.load('../DATA/%s/%s_masks.npy' % (dataset, test_filename))\n",
    "        \n",
    "        with h5py.File(\"../DATA/%s/plantseg_test/%s.h5\" % (dataset, test_filename), 'w') as hf:\n",
    "            hf.create_dataset(\"label\",  data=labels)\n",
    "            hf.create_dataset(\"raw\",  data=img)"
   ]
  },
  {
   "cell_type": "code",
   "execution_count": null,
   "id": "ab9147f0",
   "metadata": {},
   "outputs": [],
   "source": []
  }
 ],
 "metadata": {
  "kernelspec": {
   "display_name": "segmentation-aeolus",
   "language": "python",
   "name": "segmentation-aeolus"
  },
  "language_info": {
   "codemirror_mode": {
    "name": "ipython",
    "version": 3
   },
   "file_extension": ".py",
   "mimetype": "text/x-python",
   "name": "python",
   "nbconvert_exporter": "python",
   "pygments_lexer": "ipython3",
   "version": "3.8.13"
  }
 },
 "nbformat": 4,
 "nbformat_minor": 5
}
