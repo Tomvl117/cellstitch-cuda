{
 "cells": [
  {
   "cell_type": "code",
   "execution_count": 32,
   "id": "669569e4",
   "metadata": {},
   "outputs": [],
   "source": [
    "import tifffile\n",
    "import imageio\n",
    "from cellpose import models\n",
    "import numpy as np\n",
    "from cellstitch.pipeline import *\n",
    "from cellstitch.evaluation import *\n",
    "import pandas as pd\n",
    "import h5py"
   ]
  },
  {
   "cell_type": "code",
   "execution_count": 55,
   "id": "1025934a",
   "metadata": {},
   "outputs": [],
   "source": [
    "dataset = \"Valve\""
   ]
  },
  {
   "cell_type": "markdown",
   "id": "8bff9bfe",
   "metadata": {},
   "source": [
    "# Train cellpose model from scratch"
   ]
  },
  {
   "cell_type": "code",
   "execution_count": 14,
   "id": "dbaae4d0",
   "metadata": {},
   "outputs": [],
   "source": [
    "for i in range(70): \n",
    "    filename = \"%s_%02d\" % (dataset, i)\n",
    "    img = np.load(\"../DATA/%s/%s.npy\" % (dataset, filename))\n",
    "    labels = np.load(\"../DATA/%s/%s_masks.npy\" % (dataset, filename))\n",
    "    depth = img.shape[0] \n",
    "    \n",
    "    for i in range(depth): \n",
    "        imageio.imwrite(\"../DATA/%s/cellpose_train/%s_%s.tif\" % (dataset, filename, i), img[i])\n",
    "        imageio.imwrite(\"../DATA/%s/cellpose_train/%s_%s_masks.tif\" % (dataset, filename, i), labels[i])"
   ]
  },
  {
   "cell_type": "markdown",
   "id": "7591312a",
   "metadata": {},
   "source": [
    "`python -m cellpose --train --use_gpu --dir ../DATA/<dataset>/cellpose_train --pretrained_model None --n_epochs 100  --verbose`"
   ]
  },
  {
   "cell_type": "markdown",
   "id": "8d9b0477",
   "metadata": {},
   "source": [
    "###  Generate cellpose3d results"
   ]
  },
  {
   "cell_type": "code",
   "execution_count": 56,
   "id": "1287678b",
   "metadata": {},
   "outputs": [],
   "source": [
    "model_dir = '../DATA/Valve/cellpose_train/models/cellpose_residual_on_style_on_concatenation_off_cellpose_train_2023_05_30_20_25_23.614818'"
   ]
  },
  {
   "cell_type": "code",
   "execution_count": 57,
   "id": "12b6aaf3",
   "metadata": {},
   "outputs": [],
   "source": [
    "flow_threshold = 1\n",
    "model = models.CellposeModel(gpu=True, pretrained_model=model_dir)"
   ]
  },
  {
   "cell_type": "code",
   "execution_count": 58,
   "id": "2b2e81f9",
   "metadata": {},
   "outputs": [
    {
     "name": "stdout",
     "output_type": "stream",
     "text": [
      "Starting Valve_70\n",
      "Starting Valve_71\n",
      "Starting Valve_72\n",
      "Starting Valve_73\n",
      "Starting Valve_74\n",
      "Starting Valve_75\n",
      "Starting Valve_76\n",
      "Starting Valve_77\n",
      "Starting Valve_78\n",
      "Starting Valve_79\n",
      "Starting Valve_80\n",
      "Starting Valve_81\n",
      "Starting Valve_82\n",
      "Starting Valve_83\n",
      "Starting Valve_84\n",
      "Starting Valve_85\n",
      "Starting Valve_86\n",
      "Starting Valve_87\n",
      "Starting Valve_88\n",
      "Starting Valve_89\n",
      "Starting Valve_90\n",
      "Starting Valve_91\n",
      "Starting Valve_92\n",
      "Starting Valve_93\n",
      "Starting Valve_94\n",
      "Starting Valve_95\n",
      "Starting Valve_96\n",
      "Starting Valve_97\n",
      "Starting Valve_98\n",
      "Starting Valve_99\n"
     ]
    }
   ],
   "source": [
    "for i in range(70, 100): \n",
    "    test_filename = \"%s_%02d\" % (dataset, i)\n",
    "    print(\"Starting %s\" % test_filename)\n",
    "    img = np.load(\"../DATA/%s/%s.npy\" % (dataset, test_filename))\n",
    "    masks, _, _ = model.eval(img, do_3D=True, flow_threshold=flow_threshold, channels = [0,0]) \n",
    "    np.save(\"./results/%s/cellpose3d/%s.npy\" % (dataset, test_filename), masks) "
   ]
  },
  {
   "cell_type": "markdown",
   "id": "48209051",
   "metadata": {},
   "source": [
    "## Generate cellstitch results"
   ]
  },
  {
   "cell_type": "code",
   "execution_count": 59,
   "id": "6393a92e",
   "metadata": {},
   "outputs": [
    {
     "name": "stdout",
     "output_type": "stream",
     "text": [
      "Starting Valve_70\n",
      "Starting Valve_71\n",
      "Starting Valve_72\n",
      "Starting Valve_73\n",
      "Starting Valve_74\n",
      "Starting Valve_75\n",
      "Starting Valve_76\n",
      "Starting Valve_77\n",
      "Starting Valve_78\n",
      "Starting Valve_79\n",
      "Starting Valve_80\n",
      "Starting Valve_81\n",
      "Starting Valve_82\n",
      "Starting Valve_83\n",
      "Starting Valve_84\n",
      "Starting Valve_85\n",
      "Starting Valve_86\n",
      "Starting Valve_87\n",
      "Starting Valve_88\n",
      "Starting Valve_89\n",
      "Starting Valve_90\n",
      "Starting Valve_91\n",
      "Starting Valve_92\n",
      "Starting Valve_93\n",
      "Starting Valve_94\n",
      "Starting Valve_95\n",
      "Starting Valve_96\n",
      "Starting Valve_97\n",
      "Starting Valve_98\n",
      "Starting Valve_99\n"
     ]
    }
   ],
   "source": [
    "for i in range(70, 100): \n",
    "    test_filename = \"%s_%02d\" % (dataset, i)\n",
    "    print(\"Starting %s\" % test_filename)\n",
    "    img = np.load(\"../DATA/%s/%s.npy\" % (dataset, test_filename))\n",
    "    \n",
    "    cellstitch, _, _ = model.eval(list(img), flow_threshold=flow_threshold, channels = [0,0])\n",
    "    cellstitch = np.array(cellstitch)\n",
    "\n",
    "    yz_masks, _, _ = model.eval(list(img.transpose(1,0,2)), flow_threshold=flow_threshold, channels = [0,0])\n",
    "    yz_masks = np.array(yz_masks).transpose(1,0,2)\n",
    "\n",
    "    xz_masks, _, _ = model.eval(list(img.transpose(2,1,0)), flow_threshold=flow_threshold, channels = [0,0])\n",
    "    xz_masks = np.array(xz_masks).transpose(2,1,0)\n",
    "\n",
    "    full_stitch(cellstitch, yz_masks, xz_masks)\n",
    "    \n",
    "    np.save(\"./results/%s/cellstitch/%s.npy\" % (dataset, test_filename), cellstitch)  "
   ]
  },
  {
   "cell_type": "markdown",
   "id": "f86ecdd1",
   "metadata": {},
   "source": [
    "# Benchmark results"
   ]
  },
  {
   "cell_type": "code",
   "execution_count": 60,
   "id": "5446b842",
   "metadata": {},
   "outputs": [],
   "source": [
    "ap_threshold = 0.5"
   ]
  },
  {
   "cell_type": "code",
   "execution_count": 61,
   "id": "1c12b21f",
   "metadata": {},
   "outputs": [
    {
     "name": "stderr",
     "output_type": "stream",
     "text": [
      "/home/yining/anaconda3/envs/segmentation/lib/python3.8/site-packages/cellpose/metrics.py:205: RuntimeWarning: invalid value encountered in true_divide\n",
      "  iou = overlap / (n_pixels_pred + n_pixels_true - overlap)\n"
     ]
    }
   ],
   "source": [
    "methods = [\"cellstitch\", \"cellpose3d\"]\n",
    "\n",
    "for method in methods: \n",
    "    data = [] \n",
    "    for i in range(70, 100): \n",
    "        filename = \"%s_%02d\" % (dataset, i)\n",
    "        labels = np.load('../DATA/%s/%s_masks.npy' % (dataset, filename))\n",
    "        true_num_cells = np.unique(labels).size - 1 \n",
    "        true_avg_vol = get_avg_vol(labels) \n",
    "    \n",
    "        masks = np.load(\"./results/%s/%s/%s.npy\" % (dataset, method, filename))\n",
    "\n",
    "        num_cells = np.unique(masks).size - 1\n",
    "        d_num_cells = abs(num_cells - true_num_cells) / true_num_cells\n",
    "\n",
    "        avg_vol = get_avg_vol(masks)\n",
    "        d_avg_vol = abs(true_avg_vol - avg_vol) / true_avg_vol\n",
    "\n",
    "        ap, tp, fp, fn = average_precision(labels, masks, ap_threshold)\n",
    "        precision = tp / (tp + fp)\n",
    "        recall = tp / (tp + fn)\n",
    "    \n",
    "        row = [\n",
    "            filename, \n",
    "            d_num_cells, \n",
    "            d_avg_vol, \n",
    "            ap, \n",
    "            tp, \n",
    "            fp, \n",
    "            fn, \n",
    "            precision,\n",
    "            recall, \n",
    "            true_num_cells, \n",
    "            true_avg_vol, \n",
    "            num_cells, \n",
    "            avg_vol\n",
    "        ]\n",
    "\n",
    "        data.append(row)\n",
    "\n",
    "    df = pd.DataFrame(data, columns=[\n",
    "        \"filename\",  \n",
    "        \"d_num_cells\", \n",
    "        \"d_avg_vol\", \n",
    "        \"ap\", \n",
    "        \"tp\", \n",
    "        \"fp\", \n",
    "        \"fn\",\n",
    "        \"precision\",\n",
    "        \"recall\",\n",
    "        \"true_num_cells\", \n",
    "        \"true_avg_vol\", \n",
    "        \"num_cells\", \n",
    "        \"avg_vol\"\n",
    "    ])\n",
    "\n",
    "    df.to_csv(\"./results/%s/%s.csv\" % (dataset, method), index=False)"
   ]
  },
  {
   "cell_type": "code",
   "execution_count": null,
   "id": "b2a3b42d",
   "metadata": {},
   "outputs": [],
   "source": []
  }
 ],
 "metadata": {
  "kernelspec": {
   "display_name": "segmentation-aeolus",
   "language": "python",
   "name": "segmentation-aeolus"
  },
  "language_info": {
   "codemirror_mode": {
    "name": "ipython",
    "version": 3
   },
   "file_extension": ".py",
   "mimetype": "text/x-python",
   "name": "python",
   "nbconvert_exporter": "python",
   "pygments_lexer": "ipython3",
   "version": "3.8.13"
  }
 },
 "nbformat": 4,
 "nbformat_minor": 5
}
