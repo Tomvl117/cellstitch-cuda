{
 "cells": [
  {
   "cell_type": "code",
   "execution_count": 27,
   "id": "9d3d3c6e",
   "metadata": {},
   "outputs": [],
   "source": [
    "import pandas as pd"
   ]
  },
  {
   "cell_type": "code",
   "execution_count": 87,
   "id": "437a94fa",
   "metadata": {},
   "outputs": [],
   "source": [
    "method = 'cellstitch'\n",
    "dataset = 'Valve'"
   ]
  },
  {
   "cell_type": "code",
   "execution_count": 88,
   "id": "1824125e",
   "metadata": {},
   "outputs": [],
   "source": [
    "df = pd.read_csv(\"./results/%s/%s.csv\" % (dataset, method))"
   ]
  },
  {
   "cell_type": "code",
   "execution_count": 89,
   "id": "d8b8f801",
   "metadata": {},
   "outputs": [
    {
     "name": "stderr",
     "output_type": "stream",
     "text": [
      "/tmp/ipykernel_778304/3698961737.py:1: FutureWarning: Dropping of nuisance columns in DataFrame reductions (with 'numeric_only=None') is deprecated; in a future version this will raise TypeError.  Select only valid columns before calling the reduction.\n",
      "  df.mean()\n"
     ]
    },
    {
     "data": {
      "text/plain": [
       "d_num_cells          0.434605\n",
       "d_avg_vol            0.764718\n",
       "ap                   0.396919\n",
       "tp                 100.600000\n",
       "fp                  41.700000\n",
       "fn                 112.333333\n",
       "precision            0.709337\n",
       "recall               0.472516\n",
       "true_num_cells     162.633333\n",
       "true_avg_vol      5224.016296\n",
       "num_cells           92.000000\n",
       "avg_vol           9181.716528\n",
       "dtype: float64"
      ]
     },
     "execution_count": 89,
     "metadata": {},
     "output_type": "execute_result"
    }
   ],
   "source": [
    "df.mean()"
   ]
  },
  {
   "cell_type": "code",
   "execution_count": 90,
   "id": "fe98cb8b",
   "metadata": {},
   "outputs": [
    {
     "name": "stderr",
     "output_type": "stream",
     "text": [
      "/tmp/ipykernel_778304/3390915376.py:1: FutureWarning: Dropping of nuisance columns in DataFrame reductions (with 'numeric_only=None') is deprecated; in a future version this will raise TypeError.  Select only valid columns before calling the reduction.\n",
      "  df.std()\n"
     ]
    },
    {
     "data": {
      "text/plain": [
       "d_num_cells          0.057619\n",
       "d_avg_vol            0.175661\n",
       "ap                   0.047440\n",
       "tp                  20.376795\n",
       "fp                  14.389052\n",
       "fn                  21.972292\n",
       "precision            0.069597\n",
       "recall               0.042342\n",
       "true_num_cells      28.971429\n",
       "true_avg_vol       767.100215\n",
       "num_cells           19.534232\n",
       "avg_vol           1398.706107\n",
       "dtype: float64"
      ]
     },
     "execution_count": 90,
     "metadata": {},
     "output_type": "execute_result"
    }
   ],
   "source": [
    "df.std()"
   ]
  },
  {
   "cell_type": "code",
   "execution_count": null,
   "id": "5ee7e81f",
   "metadata": {},
   "outputs": [],
   "source": []
  }
 ],
 "metadata": {
  "kernelspec": {
   "display_name": "segmentation-aeolus",
   "language": "python",
   "name": "segmentation-aeolus"
  },
  "language_info": {
   "codemirror_mode": {
    "name": "ipython",
    "version": 3
   },
   "file_extension": ".py",
   "mimetype": "text/x-python",
   "name": "python",
   "nbconvert_exporter": "python",
   "pygments_lexer": "ipython3",
   "version": "3.8.13"
  }
 },
 "nbformat": 4,
 "nbformat_minor": 5
}
