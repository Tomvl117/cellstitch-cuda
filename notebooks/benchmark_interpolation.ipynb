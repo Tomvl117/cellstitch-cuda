{
 "cells": [
  {
   "cell_type": "code",
   "execution_count": 1,
   "metadata": {},
   "outputs": [],
   "source": [
    "import h5py\n",
    "import numpy as np\n",
    "import pandas as pd\n",
    "\n",
    "from scipy.ndimage import zoom\n",
    "from cellpose import models\n",
    "from cellstitch.evaluation import *"
   ]
  },
  {
   "cell_type": "code",
   "execution_count": 2,
   "metadata": {},
   "outputs": [],
   "source": [
    "test_filenames = [\"N_294_final_crop_ds2.npy\", \n",
    "                 \"N_435_final_crop_ds2.npy\",\n",
    "                 \"N_441_final_crop_ds2.npy\",\n",
    "                 \"N_511_final_crop_ds2.npy\",\n",
    "                 \"N_522_final_crop_ds2.npy\",\n",
    "                 \"N_590_final_crop_ds2.npy\",\n",
    "                 \"N_593_final_crop_ds2.npy\"]\n",
    "anisotropy = 4"
   ]
  },
  {
   "cell_type": "markdown",
   "metadata": {},
   "source": [
    "## Generate images"
   ]
  },
  {
   "cell_type": "markdown",
   "metadata": {},
   "source": [
    "First, generate and store the interpolated images."
   ]
  },
  {
   "cell_type": "code",
   "execution_count": 4,
   "metadata": {},
   "outputs": [
    {
     "name": "stdout",
     "output_type": "stream",
     "text": [
      "Starting N_294_final_crop_ds2.npy ...\n",
      "Starting N_435_final_crop_ds2.npy ...\n",
      "Starting N_441_final_crop_ds2.npy ...\n",
      "Starting N_511_final_crop_ds2.npy ...\n",
      "Starting N_522_final_crop_ds2.npy ...\n",
      "Starting N_590_final_crop_ds2.npy ...\n",
      "Starting N_593_final_crop_ds2.npy ...\n"
     ]
    }
   ],
   "source": [
    "for test_filename in test_filenames:\n",
    "    print(\"Starting %s ...\" % test_filename)\n",
    "    img = np.load('../DATA/ovules/raw/%s' % test_filename)\n",
    "    interp_img = zoom(img, (anisotropy, 1, 1))\n",
    "    \n",
    "    np.save(\n",
    "        \"../DATA/ovules_interp/raw/%s\" % test_filename, \n",
    "        interp_img\n",
    "    )"
   ]
  },
  {
   "cell_type": "markdown",
   "metadata": {},
   "source": [
    "## Cellpose3d"
   ]
  },
  {
   "cell_type": "markdown",
   "metadata": {},
   "source": [
    "Benchmark cellpose3d on interpolated images. "
   ]
  },
  {
   "cell_type": "code",
   "execution_count": 4,
   "metadata": {},
   "outputs": [],
   "source": [
    "model_dir = '../DATA/ovules/cellpose_train/models/cellpose_residual_on_style_on_concatenation_off_cellpose_train_2023_05_08_09_31_06.231473'\n",
    "flow_threshold = 1\n",
    "model = models.CellposeModel(gpu=True, pretrained_model=model_dir)"
   ]
  },
  {
   "cell_type": "code",
   "execution_count": null,
   "metadata": {},
   "outputs": [
    {
     "name": "stdout",
     "output_type": "stream",
     "text": [
      "Starting N_435_final_crop_ds2.npy\n"
     ]
    }
   ],
   "source": [
    "for test_filename in test_filenames[1:]: \n",
    "    print(\"Starting %s\" % test_filename)\n",
    "    img = np.load(\"../DATA/ovules_interp/raw/%s\" % test_filename)\n",
    "    masks, _, _ = model.eval(img, do_3D=True, flow_threshold=flow_threshold, channels = [0,0])\n",
    "    np.save(\"./results/ovules_interp/%s\" % test_filename, masks)"
   ]
  },
  {
   "cell_type": "code",
   "execution_count": 5,
   "metadata": {},
   "outputs": [
    {
     "name": "stdout",
     "output_type": "stream",
     "text": [
      "N_294_final_crop_ds2.npy (1280, 960, 1000)\n",
      "N_435_final_crop_ds2.npy (1552, 1101, 1110)\n",
      "N_441_final_crop_ds2.npy (1776, 1095, 1028)\n",
      "N_511_final_crop_ds2.npy (1040, 810, 715)\n",
      "N_522_final_crop_ds2.npy (1480, 810, 935)\n",
      "N_590_final_crop_ds2.npy (680, 555, 770)\n",
      "N_593_final_crop_ds2.npy (560, 480, 1203)\n"
     ]
    }
   ],
   "source": [
    "for test_filename in test_filenames[0:]: \n",
    "    img = np.load(\"../DATA/ovules_interp/raw/%s\" % test_filename)\n",
    "    print(test_filename, img.shape)"
   ]
  },
  {
   "cell_type": "markdown",
   "metadata": {},
   "source": [
    "Evaluate: "
   ]
  },
  {
   "cell_type": "code",
   "execution_count": 10,
   "metadata": {},
   "outputs": [
    {
     "name": "stdout",
     "output_type": "stream",
     "text": [
      "Starting N_294_final_crop_ds2.npy\n",
      "Starting N_511_final_crop_ds2.npy\n",
      "Starting N_522_final_crop_ds2.npy\n",
      "Starting N_590_final_crop_ds2.npy\n",
      "Starting N_593_final_crop_ds2.npy\n"
     ]
    },
    {
     "ename": "NameError",
     "evalue": "name 'pd' is not defined",
     "output_type": "error",
     "traceback": [
      "\u001b[0;31m---------------------------------------------------------------------------\u001b[0m",
      "\u001b[0;31mNameError\u001b[0m                                 Traceback (most recent call last)",
      "Input \u001b[0;32mIn [10]\u001b[0m, in \u001b[0;36m<cell line: 41>\u001b[0;34m()\u001b[0m\n\u001b[1;32m     27\u001b[0m     row \u001b[38;5;241m=\u001b[39m [ \n\u001b[1;32m     28\u001b[0m         test_filename, \n\u001b[1;32m     29\u001b[0m         ap25,\n\u001b[0;32m   (...)\u001b[0m\n\u001b[1;32m     36\u001b[0m         recall\n\u001b[1;32m     37\u001b[0m     ]\n\u001b[1;32m     39\u001b[0m     data\u001b[38;5;241m.\u001b[39mappend(row)\n\u001b[0;32m---> 41\u001b[0m df \u001b[38;5;241m=\u001b[39m pd\u001b[38;5;241m.\u001b[39mDataFrame(data, columns\u001b[38;5;241m=\u001b[39m[\n\u001b[1;32m     42\u001b[0m         \u001b[38;5;124m\"\u001b[39m\u001b[38;5;124mfilename\u001b[39m\u001b[38;5;124m\"\u001b[39m,\n\u001b[1;32m     43\u001b[0m         \u001b[38;5;124m\"\u001b[39m\u001b[38;5;124map25\u001b[39m\u001b[38;5;124m\"\u001b[39m, \n\u001b[1;32m     44\u001b[0m         \u001b[38;5;124m\"\u001b[39m\u001b[38;5;124map50\u001b[39m\u001b[38;5;124m\"\u001b[39m,\n\u001b[1;32m     45\u001b[0m         \u001b[38;5;124m\"\u001b[39m\u001b[38;5;124map75\u001b[39m\u001b[38;5;124m\"\u001b[39m, \n\u001b[1;32m     46\u001b[0m         \u001b[38;5;124m\"\u001b[39m\u001b[38;5;124mtp\u001b[39m\u001b[38;5;124m\"\u001b[39m, \n\u001b[1;32m     47\u001b[0m         \u001b[38;5;124m\"\u001b[39m\u001b[38;5;124mfp\u001b[39m\u001b[38;5;124m\"\u001b[39m, \n\u001b[1;32m     48\u001b[0m         \u001b[38;5;124m\"\u001b[39m\u001b[38;5;124mfn\u001b[39m\u001b[38;5;124m\"\u001b[39m,\n\u001b[1;32m     49\u001b[0m         \u001b[38;5;124m\"\u001b[39m\u001b[38;5;124mprecision\u001b[39m\u001b[38;5;124m\"\u001b[39m,\n\u001b[1;32m     50\u001b[0m         \u001b[38;5;124m\"\u001b[39m\u001b[38;5;124mrecall\u001b[39m\u001b[38;5;124m\"\u001b[39m\n\u001b[1;32m     51\u001b[0m     ])\n\u001b[1;32m     53\u001b[0m df\u001b[38;5;241m.\u001b[39mto_csv(\u001b[38;5;124m\"\u001b[39m\u001b[38;5;124m./results/ovules_interp/cellpose3d.csv\u001b[39m\u001b[38;5;124m\"\u001b[39m, index\u001b[38;5;241m=\u001b[39m\u001b[38;5;28;01mFalse\u001b[39;00m)\n",
      "\u001b[0;31mNameError\u001b[0m: name 'pd' is not defined"
     ]
    }
   ],
   "source": [
    "data = []\n",
    "\n",
    "for test_filename in [\"N_294_final_crop_ds2.npy\", \n",
    "                      \"N_511_final_crop_ds2.npy\",\n",
    "                      \"N_522_final_crop_ds2.npy\",\n",
    "                      \"N_590_final_crop_ds2.npy\",\n",
    "                      \"N_593_final_crop_ds2.npy\"]:\n",
    "    print(\"Starting %s\" % test_filename) \n",
    "    labels = np.load('../DATA/ovules/labels/%s' % test_filename)\n",
    "    masks = np.load(\"./results/ovules_interp/%s\" % test_filename)\n",
    "    masks = masks[::anisotropy,] # downsample to original size\n",
    "    \n",
    "    ap25, _, _, _ = average_precision(labels, masks, 0.25)\n",
    "    ap50, tp, fp, fn = average_precision(labels, masks, 0.5)\n",
    "    ap75, _, _, _ = average_precision(labels, masks, 0.75) \n",
    "\n",
    "    if (tp + fp) != 0: \n",
    "        precision = tp / (tp + fp)\n",
    "    else: \n",
    "        precision = 0\n",
    "\n",
    "    if tp + fp != 0: \n",
    "        recall = tp / (tp + fn)\n",
    "    else: \n",
    "        precision = 0\n",
    "\n",
    "    row = [ \n",
    "        test_filename, \n",
    "        ap25,\n",
    "        ap50,\n",
    "        ap75,\n",
    "        tp, \n",
    "        fp, \n",
    "        fn, \n",
    "        precision,\n",
    "        recall\n",
    "    ]\n",
    "\n",
    "    data.append(row)"
   ]
  },
  {
   "cell_type": "code",
   "execution_count": 12,
   "metadata": {},
   "outputs": [],
   "source": [
    "df = pd.DataFrame(data, columns=[\n",
    "        \"filename\",\n",
    "        \"ap25\", \n",
    "        \"ap50\",\n",
    "        \"ap75\", \n",
    "        \"tp\", \n",
    "        \"fp\", \n",
    "        \"fn\",\n",
    "        \"precision\",\n",
    "        \"recall\"\n",
    "    ])\n",
    "\n",
    "df.to_csv(\"./results/ovules_interp/cellpose3d.csv\", index=False)"
   ]
  },
  {
   "cell_type": "markdown",
   "metadata": {},
   "source": [
    "## PlantSeg"
   ]
  },
  {
   "cell_type": "code",
   "execution_count": 19,
   "metadata": {},
   "outputs": [],
   "source": [
    "for test_filename in test_filenames: \n",
    "    img = np.load(\"../DATA/ovules_interp/raw/%s\" % test_filename)\n",
    "        \n",
    "    with h5py.File(\"../DATA/ovules_interp/plantseg_test/%s.h5\" % test_filename[0:-4], 'w') as hf:\n",
    "        hf.create_dataset(\"raw\",  data=img)"
   ]
  },
  {
   "cell_type": "markdown",
   "metadata": {},
   "source": [
    "- activate the environment: `conda activate plant-seg` \n",
    "- set the `path` in `config.yaml` to `../DATA/ovules_interp/plantseg_test/` \n",
    "- perform segmentation with the `confocal_3D_unet_ovules_ds1x` by running `plantseg --config config.yaml`"
   ]
  },
  {
   "cell_type": "code",
   "execution_count": 3,
   "metadata": {},
   "outputs": [],
   "source": [
    "plantseg_results_folder = \"../DATA/ovules_interp/plantseg_test/PreProcessing/confocal_3D_unet_ovules_ds1x/MultiCut\""
   ]
  },
  {
   "cell_type": "code",
   "execution_count": 4,
   "metadata": {},
   "outputs": [
    {
     "name": "stdout",
     "output_type": "stream",
     "text": [
      "Starting N_294_final_crop_ds2.npy\n",
      "Starting N_435_final_crop_ds2.npy\n",
      "Starting N_441_final_crop_ds2.npy\n",
      "Starting N_511_final_crop_ds2.npy\n",
      "Starting N_522_final_crop_ds2.npy\n",
      "Starting N_590_final_crop_ds2.npy\n",
      "Starting N_593_final_crop_ds2.npy\n"
     ]
    }
   ],
   "source": [
    "for test_filename in test_filenames: \n",
    "    print(\"Starting %s\" % test_filename) \n",
    "    \n",
    "    with h5py.File(\"%s/%s_predictions_multicut.h5\" % (plantseg_results_folder, test_filename[:-4]), \"r\") as f:\n",
    "        plantseg = np.array(list(f['segmentation'])) \n",
    "        \n",
    "    plantseg[np.where(plantseg == 1)] = 0 # plantseg use 1 as labels\n",
    "    np.save(\"./results/ovules_interp/plantseg/%s\" % test_filename, plantseg)"
   ]
  },
  {
   "cell_type": "code",
   "execution_count": 5,
   "metadata": {},
   "outputs": [
    {
     "name": "stdout",
     "output_type": "stream",
     "text": [
      "Starting N_294_final_crop_ds2.npy\n"
     ]
    },
    {
     "name": "stderr",
     "output_type": "stream",
     "text": [
      "/home/yining/anaconda3/envs/segmentation/lib/python3.8/site-packages/cellpose/metrics.py:205: RuntimeWarning: invalid value encountered in true_divide\n",
      "  iou = overlap / (n_pixels_pred + n_pixels_true - overlap)\n"
     ]
    },
    {
     "name": "stdout",
     "output_type": "stream",
     "text": [
      "Starting N_435_final_crop_ds2.npy\n",
      "Starting N_441_final_crop_ds2.npy\n",
      "Starting N_511_final_crop_ds2.npy\n",
      "Starting N_522_final_crop_ds2.npy\n",
      "Starting N_590_final_crop_ds2.npy\n",
      "Starting N_593_final_crop_ds2.npy\n"
     ]
    }
   ],
   "source": [
    "data = []\n",
    "\n",
    "for test_filename in test_filenames:\n",
    "    print(\"Starting %s\" % test_filename) \n",
    "    labels = np.load('../DATA/ovules/labels/%s' % test_filename)\n",
    "    masks = np.load(\"./results/ovules_interp/plantseg/%s\" % test_filename)\n",
    "    masks = masks[::anisotropy,] # downsample to original size\n",
    "    \n",
    "    ap25, _, _, _ = average_precision(labels, masks, 0.25)\n",
    "    ap50, tp, fp, fn = average_precision(labels, masks, 0.5)\n",
    "    ap75, _, _, _ = average_precision(labels, masks, 0.75) \n",
    "\n",
    "    if (tp + fp) != 0: \n",
    "        precision = tp / (tp + fp)\n",
    "    else: \n",
    "        precision = 0\n",
    "\n",
    "    if tp + fp != 0: \n",
    "        recall = tp / (tp + fn)\n",
    "    else: \n",
    "        precision = 0\n",
    "\n",
    "    row = [ \n",
    "        test_filename, \n",
    "        ap25,\n",
    "        ap50,\n",
    "        ap75,\n",
    "        tp, \n",
    "        fp, \n",
    "        fn, \n",
    "        precision,\n",
    "        recall\n",
    "    ]\n",
    "\n",
    "    data.append(row)"
   ]
  },
  {
   "cell_type": "code",
   "execution_count": 6,
   "metadata": {},
   "outputs": [],
   "source": [
    "df = pd.DataFrame(data, columns=[\n",
    "        \"filename\",\n",
    "        \"ap25\", \n",
    "        \"ap50\",\n",
    "        \"ap75\", \n",
    "        \"tp\", \n",
    "        \"fp\", \n",
    "        \"fn\",\n",
    "        \"precision\",\n",
    "        \"recall\"\n",
    "    ])\n",
    "\n",
    "df.to_csv(\"./results/ovules_interp/plantseg.csv\", index=False)"
   ]
  },
  {
   "cell_type": "code",
   "execution_count": null,
   "metadata": {},
   "outputs": [],
   "source": []
  }
 ],
 "metadata": {
  "kernelspec": {
   "display_name": "segmentation-aeolus",
   "language": "python",
   "name": "segmentation-aeolus"
  },
  "language_info": {
   "codemirror_mode": {
    "name": "ipython",
    "version": 3
   },
   "file_extension": ".py",
   "mimetype": "text/x-python",
   "name": "python",
   "nbconvert_exporter": "python",
   "pygments_lexer": "ipython3",
   "version": "3.8.13"
  }
 },
 "nbformat": 4,
 "nbformat_minor": 4
}
