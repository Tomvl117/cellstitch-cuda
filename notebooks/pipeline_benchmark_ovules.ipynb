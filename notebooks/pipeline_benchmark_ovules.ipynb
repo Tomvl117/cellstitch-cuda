{
 "cells": [
  {
   "cell_type": "code",
   "execution_count": 1,
   "id": "89a779c7",
   "metadata": {},
   "outputs": [],
   "source": [
    "import h5py\n",
    "import numpy as np\n",
    "import imageio\n",
    "from cellpose import models\n",
    "from cellstitch.pipeline import *\n",
    "from cellstitch.evaluation import *\n",
    "from cellstitch.utils import *\n",
    "import pandas as pd"
   ]
  },
  {
   "cell_type": "markdown",
   "id": "5ebc104b",
   "metadata": {},
   "source": [
    "# Pipeline Benchmark\n",
    "\n",
    "Comparision between cellstitch (2D), cellpose3D (2.5D), plantseg (3D), cellstitch3D; using the same training set.\n",
    "\n",
    "### PlantSeg\n",
    "- First, created a plantseg virtual enviroment: \n",
    "`conda create -n plant-seg -c pytorch -c conda-forge -c lcerrone -c awolny pytorch=1.9 pytorch-3dunet=1.3.7 plantseg` \n",
    "- activate the environment: `conda activate plant-seg` \n",
    "- download the ovules test dataset: https://osf.io/uzq3w/ to `../data/ovules/plantseg_test/` \n",
    "- set the `path` in `plantseg.yaml` to `../data/ovules/plantseg_test/` \n",
    "- perform segmentation with the `confocal_unet_bce_dice_ds1x` by running `plantseg --config plantseg.yaml`\n",
    "- the predictions are saved to `../data/ovules/plantseg_test/PreProcessing/confocal_unet_bce_dice_ds1x/\n",
    "`"
   ]
  },
  {
   "cell_type": "code",
   "execution_count": 2,
   "id": "13873663",
   "metadata": {},
   "outputs": [],
   "source": [
    "test_filenames = [\"N_294_final_crop_ds2.npy\", \n",
    "                 \"N_435_final_crop_ds2.npy\",\n",
    "                 \"N_441_final_crop_ds2.npy\",\n",
    "                 \"N_511_final_crop_ds2.npy\",\n",
    "                 \"N_522_final_crop_ds2.npy\",\n",
    "                 \"N_590_final_crop_ds2.npy\",\n",
    "                 \"N_593_final_crop_ds2.npy\"]"
   ]
  },
  {
   "cell_type": "code",
   "execution_count": null,
   "id": "d041191b",
   "metadata": {},
   "outputs": [],
   "source": [
    "plantseg_results_folder = \"../data/ovules/plantseg_test/PreProcessing/confocal_unet_bce_dice_ds1x/MultiCut/\""
   ]
  },
  {
   "cell_type": "code",
   "execution_count": null,
   "id": "8da31239",
   "metadata": {},
   "outputs": [],
   "source": [
    "for test_filename in test_filenames: \n",
    "    print(\"Starting %s\" % test_filename) \n",
    "    \n",
    "    with h5py.File(\"%s/%s_predictions_multicut.h5\" % (plantseg_results_folder, test_filename), \"r\") as f:\n",
    "        plantseg = np.array(list(f['segmentation'])) \n",
    "        \n",
    "    plantseg[np.where(plantseg == 1)] = 0 # plantseg use 1 as labels\n",
    "    np.save(\"./results/ovules/pipeline/plantseg/%s.npy\" % test_filename, plantseg)"
   ]
  },
  {
   "cell_type": "markdown",
   "id": "1365e866",
   "metadata": {},
   "source": [
    "### Train cellpose model from scratch\n",
    "First, need to prepare training data for cellpose."
   ]
  },
  {
   "cell_type": "code",
   "execution_count": 2,
   "id": "50ca5eb1",
   "metadata": {},
   "outputs": [],
   "source": [
    "train_filenames = [\"N_404_ds2x.npy\", \n",
    "                  \"N_405_A_ds2x.npy\", \n",
    "                  \"N_405_B_ds2x.npy\", \n",
    "                  \"N_416_ds2x.npy\",\n",
    "                  \"N_422_ds2x.npy\",\n",
    "                  \"N_425_ds2x.npy\",\n",
    "                  \"N_428_ds2x.npy\",\n",
    "                  \"N_440_ds2x.npy\",\n",
    "                  \"N_445_ds2x.npy\",\n",
    "                  \"N_449_ds2x.npy\",\n",
    "                  \"N_450_ds2x.npy\", \n",
    "                  \"N_451_ds2x.npy\",\n",
    "                  \"N_454_ds2x.npy\",\n",
    "                  \"N_457_ds2x.npy\",\n",
    "                  \"N_458_ds2x.npy\",\n",
    "                  \"N_487_ds2x.npy\",\n",
    "                  \"N_509_ds2x.npy\",\n",
    "                  \"N_512_ds2x.npy\",\n",
    "                   \"N_517_ds2x.npy\",\n",
    "                  \"N_534_ds2x.npy\",\n",
    "                  \"N_535_ds2x.npy\",\n",
    "                  \"N_536_ds2x.npy\"]\n",
    "\n",
    "ovules_folder = \"../DATA/ovules\"\n",
    "cellpose_folder = \"../DATA/ovules/cellpose_train\""
   ]
  },
  {
   "cell_type": "code",
   "execution_count": 3,
   "id": "c99fb7d0",
   "metadata": {},
   "outputs": [],
   "source": [
    "for train_filename in train_filenames: \n",
    "    img = np.load(\"%s/raw/%s\" % (ovules_folder, train_filename))\n",
    "    labels = np.load(\"%s/labels/%s\" % (ovules_folder, train_filename)) \n",
    "    depth = img.shape[0] \n",
    "    \n",
    "    for i in range(depth): \n",
    "        imageio.imwrite(\"%s/%s_%s.tif\" % (cellpose_folder, train_filename, i), img[i])\n",
    "        imageio.imwrite(\"%s/%s_%s_masks.tif\" % (cellpose_folder, train_filename, i), labels[i])"
   ]
  },
  {
   "cell_type": "markdown",
   "id": "a7fe4777",
   "metadata": {},
   "source": [
    "`python -m cellpose --train --dir ../DATA/ovules/cellpose_train --pretrained_model None --n_epochs 100  --verbose` "
   ]
  },
  {
   "cell_type": "markdown",
   "id": "1b2df6be",
   "metadata": {},
   "source": [
    "### Generate cellpose3d results"
   ]
  },
  {
   "cell_type": "code",
   "execution_count": 4,
   "id": "32484df9",
   "metadata": {},
   "outputs": [],
   "source": [
    "model_dir = '../DATA/ovules/cellpose_train/models/cellpose_residual_on_style_on_concatenation_off_cellpose_train_2023_05_08_09_31_06.231473'"
   ]
  },
  {
   "cell_type": "code",
   "execution_count": 5,
   "id": "7380b789",
   "metadata": {},
   "outputs": [],
   "source": [
    "ovules_folder = \"../DATA/ovules\""
   ]
  },
  {
   "cell_type": "code",
   "execution_count": 6,
   "id": "d9ddf488",
   "metadata": {},
   "outputs": [],
   "source": [
    "flow_threshold = 1\n",
    "model = models.CellposeModel(gpu=True, pretrained_model=model_dir)"
   ]
  },
  {
   "cell_type": "code",
   "execution_count": 7,
   "id": "62938db3",
   "metadata": {},
   "outputs": [
    {
     "name": "stdout",
     "output_type": "stream",
     "text": [
      "Starting N_294_final_crop_ds2.npy\n",
      "Starting N_435_final_crop_ds2.npy\n",
      "Starting N_441_final_crop_ds2.npy\n",
      "Starting N_511_final_crop_ds2.npy\n",
      "Starting N_522_final_crop_ds2.npy\n",
      "Starting N_590_final_crop_ds2.npy\n",
      "Starting N_593_final_crop_ds2.npy\n"
     ]
    }
   ],
   "source": [
    "for test_filename in test_filenames: \n",
    "    print(\"Starting %s\" % test_filename)\n",
    "    img = np.load(\"%s/raw/%s\" % (ovules_folder, test_filename)) \n",
    "    masks, _, _ = model.eval(img, do_3D=True, flow_threshold=flow_threshold, channels = [0,0]) \n",
    "    np.save(\"./results/ovules/pipeline/cellpose3d/%s\" % test_filename, masks) "
   ]
  },
  {
   "cell_type": "markdown",
   "id": "aabc52e1",
   "metadata": {},
   "source": [
    "### Generate cellstitch results"
   ]
  },
  {
   "cell_type": "code",
   "execution_count": 7,
   "id": "af7cf76b",
   "metadata": {},
   "outputs": [
    {
     "name": "stdout",
     "output_type": "stream",
     "text": [
      "Starting N_294_final_crop_ds2.npy\n",
      "Starting N_435_final_crop_ds2.npy\n"
     ]
    },
    {
     "name": "stderr",
     "output_type": "stream",
     "text": [
      "WARNING: no mask pixels found\n",
      "WARNING: no mask pixels found\n",
      "WARNING: no mask pixels found\n",
      "WARNING: no mask pixels found\n",
      "WARNING: no mask pixels found\n"
     ]
    },
    {
     "name": "stdout",
     "output_type": "stream",
     "text": [
      "Starting N_441_final_crop_ds2.npy\n",
      "Starting N_511_final_crop_ds2.npy\n"
     ]
    },
    {
     "name": "stderr",
     "output_type": "stream",
     "text": [
      "WARNING: no mask pixels found\n"
     ]
    },
    {
     "name": "stdout",
     "output_type": "stream",
     "text": [
      "Starting N_522_final_crop_ds2.npy\n"
     ]
    },
    {
     "name": "stderr",
     "output_type": "stream",
     "text": [
      "WARNING: no mask pixels found\n",
      "WARNING: no mask pixels found\n",
      "WARNING: no mask pixels found\n"
     ]
    },
    {
     "name": "stdout",
     "output_type": "stream",
     "text": [
      "Starting N_590_final_crop_ds2.npy\n"
     ]
    },
    {
     "name": "stderr",
     "output_type": "stream",
     "text": [
      "WARNING: no mask pixels found\n",
      "WARNING: no mask pixels found\n"
     ]
    },
    {
     "name": "stdout",
     "output_type": "stream",
     "text": [
      "Starting N_593_final_crop_ds2.npy\n"
     ]
    },
    {
     "name": "stderr",
     "output_type": "stream",
     "text": [
      "WARNING: no mask pixels found\n"
     ]
    }
   ],
   "source": [
    "for test_filename in test_filenames: \n",
    "    print(\"Starting %s\" % test_filename)\n",
    "    img = np.load(\"%s/raw/%s\" % (ovules_folder, test_filename)) \n",
    "    \n",
    "    cellstitch, _, _ = model.eval(list(img), flow_threshold=flow_threshold, channels = [0,0])\n",
    "    cellstitch = np.array(cellstitch)\n",
    "\n",
    "    yz_masks, _, _ = model.eval(list(img.transpose(1,0,2)), flow_threshold=flow_threshold, channels = [0,0])\n",
    "    yz_masks = np.array(yz_masks).transpose(1,0,2)\n",
    "\n",
    "    xz_masks, _, _ = model.eval(list(img.transpose(2,1,0)), flow_threshold=flow_threshold, channels = [0,0])\n",
    "    xz_masks = np.array(xz_masks).transpose(2,1,0)\n",
    "\n",
    "    full_stitch(cellstitch, yz_masks, xz_masks)\n",
    "    \n",
    "    np.save(\"./results/ovules/pipeline/cellstitch/%s\" % test_filename, cellstitch) "
   ]
  },
  {
   "cell_type": "markdown",
   "id": "5ae7af94",
   "metadata": {},
   "source": [
    "# Ovules with High Anistropy "
   ]
  },
  {
   "cell_type": "markdown",
   "id": "cb433ecb",
   "metadata": {},
   "source": [
    "### PlantSeg\n",
    "- activate the environment: `conda activate plant-seg` \n",
    "- make sure to set the `path` in plantseg.yaml to `../data/ovules_subsampled/plantseg_test/`\n",
    "- perform segmentation with the `confocal_unet_bce_dice_ds1x` by running `plantseg --config plantseg.yaml`"
   ]
  },
  {
   "cell_type": "code",
   "execution_count": null,
   "id": "dc74e095",
   "metadata": {},
   "outputs": [],
   "source": [
    "plantseg_results_folder = \"../data/ovules_subsampled/plantseg_test/PreProcessing/confocal_unet_bce_dice_ds1x/MultiCut/\""
   ]
  },
  {
   "cell_type": "code",
   "execution_count": null,
   "id": "0980192a",
   "metadata": {},
   "outputs": [],
   "source": [
    "for test_filename in test_filenames: \n",
    "    print(\"Starting %s\" % test_filename) \n",
    "    \n",
    "    with h5py.File(\"%s/%s_predictions_multicut.h5\" % (plantseg_results_folder, test_filename), \"r\") as f:\n",
    "        plantseg = np.array(list(f['segmentation'])) \n",
    "        \n",
    "    plantseg[np.where(plantseg == 1)] = 0 # plantseg use 1 as labels\n",
    "    np.save(\"./results/ovules_subsampled/pipeline/plantseg/%s.npy\" % test_filename, plantseg)"
   ]
  },
  {
   "cell_type": "markdown",
   "id": "f80cf2eb",
   "metadata": {},
   "source": [
    "### Generate cellpose3d results"
   ]
  },
  {
   "cell_type": "code",
   "execution_count": null,
   "id": "132858bd",
   "metadata": {},
   "outputs": [],
   "source": [
    "model_dir = '../data/ovules/cellpose_train/models/cellpose_residual_on_style_on_concatenation_off_cellpose_train_2022_09_19_14_23_42.578556'"
   ]
  },
  {
   "cell_type": "code",
   "execution_count": null,
   "id": "00cc263a",
   "metadata": {},
   "outputs": [],
   "source": [
    "subsampled_ovules_folder = \"../data/ovules_subsampled/\""
   ]
  },
  {
   "cell_type": "code",
   "execution_count": null,
   "id": "69d34f6b",
   "metadata": {},
   "outputs": [],
   "source": [
    "flow_threshold = 1\n",
    "model = models.CellposeModel(gpu=True, pretrained_model=model_dir)"
   ]
  },
  {
   "cell_type": "code",
   "execution_count": null,
   "id": "d05c825a",
   "metadata": {},
   "outputs": [],
   "source": [
    "for test_filename in test_filenames: \n",
    "    print(\"Starting %s\" % test_filename)\n",
    "    img = np.load(\"%s/raw/%s.npy\" % (subsampled_ovules_folder, test_filename)) \n",
    "    masks, _, _ = model.eval(img, do_3D=True, flow_threshold=flow_threshold, channels = [0,0]) \n",
    "    np.save(\"./results/ovules_subsampled/pipeline/cellpose3d/%s.npy\" % test_filename, masks) "
   ]
  },
  {
   "cell_type": "markdown",
   "id": "a3dbfb9e",
   "metadata": {},
   "source": [
    "### Generate cellstitch results"
   ]
  },
  {
   "cell_type": "code",
   "execution_count": null,
   "id": "ce7258f1",
   "metadata": {},
   "outputs": [],
   "source": [
    "for test_filename in test_filenames: \n",
    "    print(\"Starting %s\" % test_filename)\n",
    "    img = np.load(\"%s/raw/%s.npy\" % (subsampled_ovules_folder, test_filename)) \n",
    "    \n",
    "    masks, _, _ = model.eval(list(img), flow_threshold=flow_threshold, channels = [0,0]) \n",
    "    cellstitch = np.array(masks)\n",
    "    full_stitch(cellstitch) \n",
    "    np.save(\"./results/ovules_subsampled/pipeline/cellstitch/%s.npy\" % test_filename, cellstitch) "
   ]
  },
  {
   "cell_type": "markdown",
   "id": "bcc2f3f6",
   "metadata": {},
   "source": [
    "# Benchmark Results"
   ]
  },
  {
   "cell_type": "code",
   "execution_count": 10,
   "id": "346d213c",
   "metadata": {},
   "outputs": [],
   "source": [
    "dataset = 'ovules' # ovules or ovules_subsampled\n",
    "\n",
    "ap_threshold = 0.5"
   ]
  },
  {
   "cell_type": "code",
   "execution_count": 11,
   "id": "4de605bc",
   "metadata": {},
   "outputs": [
    {
     "name": "stdout",
     "output_type": "stream",
     "text": [
      "Starting N_294_final_crop_ds2.npy\n"
     ]
    },
    {
     "name": "stderr",
     "output_type": "stream",
     "text": [
      "/home/yining/anaconda3/envs/segmentation/lib/python3.8/site-packages/cellpose/metrics.py:205: RuntimeWarning: invalid value encountered in true_divide\n",
      "  iou = overlap / (n_pixels_pred + n_pixels_true - overlap)\n"
     ]
    },
    {
     "name": "stdout",
     "output_type": "stream",
     "text": [
      "Starting N_435_final_crop_ds2.npy\n",
      "Starting N_441_final_crop_ds2.npy\n",
      "Starting N_511_final_crop_ds2.npy\n",
      "Starting N_522_final_crop_ds2.npy\n",
      "Starting N_590_final_crop_ds2.npy\n",
      "Starting N_593_final_crop_ds2.npy\n"
     ]
    }
   ],
   "source": [
    "method = \"cellstitch\" \n",
    "\n",
    "data = [] \n",
    "for filename in test_filenames:\n",
    "    print(\"Starting %s\" % filename)\n",
    "    labels = np.load('../DATA/%s/labels/%s' % (dataset, filename)) \n",
    "    true_num_cells = np.unique(labels).size - 1 \n",
    "    true_avg_vol = get_avg_vol(labels) \n",
    "    \n",
    "    masks = np.load(\"./results/%s/pipeline/%s/%s\" % (dataset, method, filename))\n",
    "    \n",
    "    num_cells = np.unique(masks).size - 1\n",
    "    d_num_cells = abs(num_cells - true_num_cells) / true_num_cells\n",
    "\n",
    "    avg_vol = get_avg_vol(masks)\n",
    "    d_avg_vol = abs(true_avg_vol - avg_vol) / true_avg_vol\n",
    "\n",
    "    ap, tp, fp, fn = average_precision(labels, masks, ap_threshold)\n",
    "    precision = tp / (tp + fp)\n",
    "    recall = tp / (tp + fn)\n",
    "    \n",
    "    row = [ \n",
    "        filename, \n",
    "        d_num_cells, \n",
    "        d_avg_vol, \n",
    "        ap, \n",
    "        tp, \n",
    "        fp, \n",
    "        fn, \n",
    "        precision,\n",
    "        recall, \n",
    "        true_num_cells, \n",
    "        true_avg_vol, \n",
    "        num_cells, \n",
    "        avg_vol\n",
    "    ]\n",
    "    \n",
    "    data.append(row)\n",
    "\n",
    "df = pd.DataFrame(data, columns=[\n",
    "    \"filename\",  \n",
    "    \"d_num_cells\", \n",
    "    \"d_avg_vol\", \n",
    "    \"ap\", \n",
    "    \"tp\", \n",
    "    \"fp\", \n",
    "    \"fn\",\n",
    "    \"precision\",\n",
    "    \"recall\",\n",
    "    \"true_num_cells\", \n",
    "    \"true_avg_vol\", \n",
    "    \"num_cells\", \n",
    "    \"avg_vol\"\n",
    "])\n",
    "\n",
    "df.to_csv(\"./results/%s/pipeline/%s.csv\" % (dataset, method), index=False)"
   ]
  },
  {
   "cell_type": "markdown",
   "id": "3a5bc8b9",
   "metadata": {},
   "source": [
    "### Analyze Results"
   ]
  },
  {
   "cell_type": "code",
   "execution_count": 12,
   "id": "a4090cc0",
   "metadata": {},
   "outputs": [],
   "source": [
    "method = 'cellstitch'"
   ]
  },
  {
   "cell_type": "code",
   "execution_count": 13,
   "id": "071b4fa9",
   "metadata": {},
   "outputs": [],
   "source": [
    "df = pd.read_csv('results/%s/pipeline/%s.csv' % (dataset, method))"
   ]
  },
  {
   "cell_type": "code",
   "execution_count": 14,
   "id": "76a21d2c",
   "metadata": {},
   "outputs": [
    {
     "name": "stderr",
     "output_type": "stream",
     "text": [
      "/tmp/ipykernel_559304/3698961737.py:1: FutureWarning: Dropping of nuisance columns in DataFrame reductions (with 'numeric_only=None') is deprecated; in a future version this will raise TypeError.  Select only valid columns before calling the reduction.\n",
      "  df.mean()\n"
     ]
    },
    {
     "data": {
      "text/plain": [
       "d_num_cells           0.212236\n",
       "d_avg_vol             0.126543\n",
       "ap                    0.476312\n",
       "tp                 1374.285714\n",
       "fp                  766.857143\n",
       "fn                  800.428571\n",
       "precision             0.642519\n",
       "recall                0.644789\n",
       "true_num_cells     1487.571429\n",
       "true_avg_vol      41812.575714\n",
       "num_cells          1454.000000\n",
       "avg_vol           37439.755426\n",
       "dtype: float64"
      ]
     },
     "execution_count": 14,
     "metadata": {},
     "output_type": "execute_result"
    }
   ],
   "source": [
    "df.mean()"
   ]
  },
  {
   "cell_type": "code",
   "execution_count": 15,
   "id": "ac1216f8",
   "metadata": {},
   "outputs": [
    {
     "name": "stderr",
     "output_type": "stream",
     "text": [
      "/tmp/ipykernel_559304/3390915376.py:1: FutureWarning: Dropping of nuisance columns in DataFrame reductions (with 'numeric_only=None') is deprecated; in a future version this will raise TypeError.  Select only valid columns before calling the reduction.\n",
      "  df.std()\n"
     ]
    },
    {
     "data": {
      "text/plain": [
       "d_num_cells           0.154432\n",
       "d_avg_vol             0.076523\n",
       "ap                    0.107317\n",
       "tp                  654.703422\n",
       "fp                  384.396683\n",
       "fn                  613.369616\n",
       "precision             0.079772\n",
       "recall                0.135809\n",
       "true_num_cells      883.144922\n",
       "true_avg_vol      16328.584315\n",
       "num_cells           675.544965\n",
       "avg_vol           10953.323258\n",
       "dtype: float64"
      ]
     },
     "execution_count": 15,
     "metadata": {},
     "output_type": "execute_result"
    }
   ],
   "source": [
    "df.std()"
   ]
  },
  {
   "cell_type": "code",
   "execution_count": null,
   "id": "aface091",
   "metadata": {},
   "outputs": [],
   "source": []
  }
 ],
 "metadata": {
  "kernelspec": {
   "display_name": "segmentation-aeolus",
   "language": "python",
   "name": "segmentation-aeolus"
  },
  "language_info": {
   "codemirror_mode": {
    "name": "ipython",
    "version": 3
   },
   "file_extension": ".py",
   "mimetype": "text/x-python",
   "name": "python",
   "nbconvert_exporter": "python",
   "pygments_lexer": "ipython3",
   "version": "3.8.13"
  }
 },
 "nbformat": 4,
 "nbformat_minor": 5
}
