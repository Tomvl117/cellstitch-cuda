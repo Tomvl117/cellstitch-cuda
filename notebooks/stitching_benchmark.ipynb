{
 "cells": [
  {
   "cell_type": "code",
   "execution_count": 1,
   "metadata": {},
   "outputs": [],
   "source": [
    "import numpy as np\n",
    "import os\n",
    "from cellpose import models\n",
    "from cellpose import utils as cp_utils\n",
    "from cellstitch.pipeline import *\n",
    "from cellstitch.evaluation import *\n",
    "from cellstitch.utils import *\n",
    "import pandas as pd\n",
    "import seaborn as sns\n",
    "import matplotlib.pyplot as plt"
   ]
  },
  {
   "cell_type": "code",
   "execution_count": 2,
   "metadata": {},
   "outputs": [],
   "source": [
    "filenames = get_filenames(\"../data/ovules/raw/\")\n",
    "ap_threshold = 0.5"
   ]
  },
  {
   "cell_type": "markdown",
   "metadata": {},
   "source": [
    "# Benchmark CellStitch Stitching\n",
    "Generate unstitched 2D predictions:"
   ]
  },
  {
   "cell_type": "code",
   "execution_count": 2,
   "metadata": {},
   "outputs": [],
   "source": [
    "cp_model_dir = './cellpose/train/models/cellpose_residual_on_style_on_concatenation_off_train_2022_08_30_13_18_51.543479'\n",
    "flow_threshold = 1\n",
    "model = models.Cellpose(gpu=True, model_type='cyto2')"
   ]
  },
  {
   "cell_type": "code",
   "execution_count": null,
   "metadata": {},
   "outputs": [],
   "source": [
    "for filename in filenames: \n",
    "    img = np.load('../data/ovules/raw/%s' % filename)\n",
    "    frames = list(img)\n",
    "    unstitched, _, _, _ = model.eval(frames, flow_threshold=flow_threshold) \n",
    "    np.save('./results/unstitched/%s' % filename, np.array(unstitched))"
   ]
  },
  {
   "cell_type": "markdown",
   "metadata": {},
   "source": [
    "## Get the benchmark results for EuclideanStitch:"
   ]
  },
  {
   "cell_type": "code",
   "execution_count": 7,
   "metadata": {},
   "outputs": [],
   "source": [
    "def full_stitch_euclidean(masks, verbose=False):\n",
    "    \"\"\"\n",
    "    Stitch masks in-place.\n",
    "    \"\"\"\n",
    "    num_frame = masks.shape[0]\n",
    "\n",
    "    prev_index = 0\n",
    "    max_lbl = 0\n",
    "\n",
    "    while Frame(masks[prev_index]).is_empty():\n",
    "        prev_index += 1\n",
    "\n",
    "    curr_index = prev_index + 1\n",
    "\n",
    "    while curr_index < num_frame:\n",
    "        if Frame(masks[curr_index]).is_empty():\n",
    "            # if frame is empty, skip\n",
    "            curr_index += 1\n",
    "        else:\n",
    "            if verbose:\n",
    "                print(\"===Stitching frame %s with frame %s ...===\" % (curr_index, prev_index))\n",
    "\n",
    "            fp = FramePair(masks[prev_index], masks[curr_index], max_lbl=max_lbl)\n",
    "            fp.stitch_euclidean()\n",
    "            masks[curr_index] = fp.frame1.mask\n",
    "\n",
    "            max_lbl = fp.max_lbl\n",
    "\n",
    "            prev_index = curr_index\n",
    "            curr_index += 1"
   ]
  },
  {
   "cell_type": "code",
   "execution_count": 8,
   "metadata": {},
   "outputs": [
    {
     "name": "stdout",
     "output_type": "stream",
     "text": [
      "Starting N_422_ds2x.npy\n",
      "Starting N_457_ds2x.npy\n",
      "Starting N_590_final_crop_ds2.npy\n"
     ]
    },
    {
     "name": "stderr",
     "output_type": "stream",
     "text": [
      "/home/yining/anaconda3/envs/segmentation/lib/python3.8/site-packages/cellpose/metrics.py:205: RuntimeWarning: invalid value encountered in true_divide\n",
      "  iou = overlap / (n_pixels_pred + n_pixels_true - overlap)\n"
     ]
    },
    {
     "name": "stdout",
     "output_type": "stream",
     "text": [
      "Starting N_405_B_ds2x.npy\n",
      "Starting N_522_final_crop_ds2.npy\n",
      "Starting N_464_ds2x.npy\n",
      "Starting N_534_ds2x.npy\n",
      "Starting N_454_ds2x.npy\n",
      "Starting N_445_ds2x.npy\n",
      "Starting N_517_ds2x.npy\n",
      "Starting N_509_ds2x.npy\n",
      "Starting N_425_ds2x.npy\n",
      "Starting N_536_ds2x.npy\n",
      "Starting N_435_final_crop_ds2.npy\n",
      "Starting N_487_ds2x.npy\n",
      "Starting N_535_ds2x.npy\n",
      "Starting N_416_ds2x.npy\n",
      "Starting N_511_final_crop_ds2.npy\n",
      "Starting N_512_ds2x.npy\n",
      "Starting N_420_ds2x.npy\n",
      "Starting N_294_final_crop_ds2.npy\n",
      "Starting N_405_A_ds2x.npy\n",
      "Starting N_428_ds2x.npy\n",
      "Starting N_440_ds2x.npy\n",
      "Starting N_449_ds2x.npy\n",
      "Starting N_404_ds2x.npy\n",
      "Starting N_458_ds2x.npy\n",
      "Starting N_450_ds2x.npy\n",
      "Starting N_441_final_crop_ds2.npy\n",
      "Starting N_451_ds2x.npy\n",
      "Starting N_593_final_crop_ds2.npy\n"
     ]
    }
   ],
   "source": [
    "data = [] \n",
    "for filename in filenames:\n",
    "    print(\"Starting %s\" % filename)\n",
    "    labels = np.load('../data/ovules/labels/%s' % filename)\n",
    "    true_num_cells = np.unique(labels).size - 1 \n",
    "    true_avg_vol = get_avg_vol(labels) \n",
    "    \n",
    "    ct_stitched_e = np.load('./results/ovules/stitching/unstitched/%s' % filename) \n",
    "    full_stitch_euclidean(ct_stitched_e)\n",
    "    np.save('./results/ovules/stitching/cte_stitched/%s' % filename, ct_stitched_e)\n",
    "    \n",
    "    num_cells = np.unique(ct_stitched_e).size - 1\n",
    "    d_num_cells = abs(num_cells - true_num_cells) / true_num_cells\n",
    "\n",
    "    avg_vol = get_avg_vol(ct_stitched_e)\n",
    "    d_avg_vol = abs(true_avg_vol - avg_vol) / true_avg_vol\n",
    "\n",
    "    ap, tp, fp, fn = average_precision(labels, ct_stitched_e, ap_threshold)\n",
    "    \n",
    "    row = [ \n",
    "        filename, \n",
    "        d_num_cells, \n",
    "        d_avg_vol, \n",
    "        ap, \n",
    "        tp, \n",
    "        fp, \n",
    "        fn\n",
    "    ]\n",
    "    \n",
    "    data.append(row)"
   ]
  },
  {
   "cell_type": "code",
   "execution_count": 10,
   "metadata": {},
   "outputs": [],
   "source": [
    "cte_df = pd.DataFrame(data, columns=[\n",
    "    \"filename\", \n",
    "    \"d_num_cells\", \n",
    "    \"d_avg_vol\", \n",
    "    \"ap\", \n",
    "    \"tp\", \n",
    "    \"fp\", \n",
    "    \"rn\"\n",
    "])"
   ]
  },
  {
   "cell_type": "code",
   "execution_count": 11,
   "metadata": {},
   "outputs": [],
   "source": [
    "cte_df.to_csv(\"./results/ovules/stitching/cte.csv\", index=False)"
   ]
  },
  {
   "cell_type": "markdown",
   "metadata": {},
   "source": [
    "## Get the benchmark results for cellpose: "
   ]
  },
  {
   "cell_type": "code",
   "execution_count": 4,
   "metadata": {},
   "outputs": [],
   "source": [
    "thresholds = np.arange(0.1, 1, 0.1)"
   ]
  },
  {
   "cell_type": "code",
   "execution_count": 5,
   "metadata": {},
   "outputs": [],
   "source": [
    "# cellpose benchmark\n",
    "data = [] \n",
    "for filename in filenames:\n",
    "    labels = np.load('../data/ovules/labels/%s' % filename) \n",
    "    true_num_cells = np.unique(labels).size - 1 \n",
    "    true_avg_vol = get_avg_vol(labels) \n",
    "    \n",
    "    for threshold in thresholds:\n",
    "        unstitched = np.load('./results/ovules/stitching/unstitched/%s' % filename) \n",
    "        cp_stitched =  np.asarray(cp_utils.stitch3D(unstitched, stitch_threshold=threshold)) # compute stitched mask\n",
    "        \n",
    "        num_cells = np.unique(cp_stitched).size - 1\n",
    "        d_num_cells = abs(num_cells - true_num_cells) / true_num_cells \n",
    "        \n",
    "        avg_vol = get_avg_vol(cp_stitched)\n",
    "        d_avg_vol = abs(true_avg_vol - avg_vol) / true_avg_vol\n",
    "        \n",
    "        ap, tp, fp, fn = average_precision(labels, cp_stitched, ap_threshold)\n",
    "        \n",
    "        row = [\n",
    "            filename, \n",
    "            threshold, \n",
    "            d_num_cells, \n",
    "            d_avg_vol, \n",
    "            ap, \n",
    "            tp, \n",
    "            fp, \n",
    "            fn\n",
    "        ]\n",
    "        data.append(row)"
   ]
  },
  {
   "cell_type": "code",
   "execution_count": 6,
   "metadata": {},
   "outputs": [],
   "source": [
    "cp_df = pd.DataFrame(data, columns=[\n",
    "    \"filename\", \n",
    "    \"threshold\", \n",
    "    \"d_num_cells\", \n",
    "    \"d_avg_vol\", \n",
    "    \"ap\", \n",
    "    \"tp\", \n",
    "    \"fp\", \n",
    "    \"rn\"\n",
    "])"
   ]
  },
  {
   "cell_type": "code",
   "execution_count": 7,
   "metadata": {},
   "outputs": [],
   "source": [
    "cp_df.to_csv(\"cp_stitching_benchmark.csv\", index=False)"
   ]
  },
  {
   "cell_type": "markdown",
   "metadata": {},
   "source": [
    "## Get the benchmark results for CellStitch:"
   ]
  },
  {
   "cell_type": "code",
   "execution_count": 8,
   "metadata": {},
   "outputs": [
    {
     "name": "stdout",
     "output_type": "stream",
     "text": [
      "Starting N_422_ds2x.npy\n"
     ]
    },
    {
     "name": "stderr",
     "output_type": "stream",
     "text": [
      "/home/yining/anaconda3/envs/segmentation/lib/python3.8/site-packages/cellpose/metrics.py:205: RuntimeWarning: invalid value encountered in true_divide\n",
      "  iou = overlap / (n_pixels_pred + n_pixels_true - overlap)\n"
     ]
    },
    {
     "name": "stdout",
     "output_type": "stream",
     "text": [
      "Starting N_457_ds2x.npy\n",
      "Starting N_590_final_crop_ds2.npy\n",
      "Starting N_405_B_ds2x.npy\n",
      "Starting N_522_final_crop_ds2.npy\n",
      "Starting N_464_ds2x.npy\n",
      "Starting N_534_ds2x.npy\n",
      "Starting N_454_ds2x.npy\n",
      "Starting N_445_ds2x.npy\n",
      "Starting N_517_ds2x.npy\n",
      "Starting N_509_ds2x.npy\n",
      "Starting N_425_ds2x.npy\n",
      "Starting N_536_ds2x.npy\n",
      "Starting N_435_final_crop_ds2.npy\n",
      "Starting N_487_ds2x.npy\n",
      "Starting N_535_ds2x.npy\n",
      "Starting N_416_ds2x.npy\n",
      "Starting N_511_final_crop_ds2.npy\n",
      "Starting N_512_ds2x.npy\n",
      "Starting N_420_ds2x.npy\n",
      "Starting N_294_final_crop_ds2.npy\n",
      "Starting N_405_A_ds2x.npy\n",
      "Starting N_428_ds2x.npy\n",
      "Starting N_440_ds2x.npy\n",
      "Starting N_449_ds2x.npy\n",
      "Starting N_404_ds2x.npy\n",
      "Starting N_458_ds2x.npy\n",
      "Starting N_450_ds2x.npy\n",
      "Starting N_441_final_crop_ds2.npy\n",
      "Starting N_451_ds2x.npy\n",
      "Starting N_593_final_crop_ds2.npy\n"
     ]
    }
   ],
   "source": [
    "data = [] \n",
    "for filename in filenames:\n",
    "    print(\"Starting %s\" % filename)\n",
    "    labels = np.load('../data/ovules/labels/%s' % filename)\n",
    "    true_num_cells = np.unique(labels).size - 1 \n",
    "    true_avg_vol = get_avg_vol(labels) \n",
    "    \n",
    "    ct_stitched = np.load('./results/ovules/stitching/ct_stitched/%s' % filename) \n",
    "    \n",
    "    num_cells = np.unique(ct_stitched).size - 1\n",
    "    d_num_cells = abs(num_cells - true_num_cells) / true_num_cells\n",
    "\n",
    "    avg_vol = get_avg_vol(ct_stitched)\n",
    "    d_avg_vol = abs(true_avg_vol - avg_vol) / true_avg_vol\n",
    "\n",
    "    ap, tp, fp, fn = average_precision(labels, ct_stitched, ap_threshold)\n",
    "    \n",
    "    row = [ \n",
    "        filename, \n",
    "        d_num_cells, \n",
    "        d_avg_vol, \n",
    "        ap, \n",
    "        tp, \n",
    "        fp, \n",
    "        fn\n",
    "    ]\n",
    "    \n",
    "    data.append(row)"
   ]
  },
  {
   "cell_type": "code",
   "execution_count": 9,
   "metadata": {},
   "outputs": [],
   "source": [
    "ct_df = pd.DataFrame(data, columns=[\n",
    "    \"filename\", \n",
    "    \"d_num_cells\", \n",
    "    \"d_avg_vol\", \n",
    "    \"ap\", \n",
    "    \"tp\", \n",
    "    \"fp\", \n",
    "    \"rn\"\n",
    "])"
   ]
  },
  {
   "cell_type": "code",
   "execution_count": 10,
   "metadata": {},
   "outputs": [],
   "source": [
    "ct_df.to_csv(\"ct_stitching_benchmark.csv\", index=False)"
   ]
  },
  {
   "cell_type": "markdown",
   "metadata": {},
   "source": [
    "## Get the benchmark results for CellStitch reverse stitching:"
   ]
  },
  {
   "cell_type": "code",
   "execution_count": 3,
   "metadata": {},
   "outputs": [
    {
     "name": "stdout",
     "output_type": "stream",
     "text": [
      "Starting N_422_ds2x.npy\n"
     ]
    },
    {
     "name": "stderr",
     "output_type": "stream",
     "text": [
      "/home/yining/anaconda3/envs/segmentation/lib/python3.8/site-packages/cellpose/metrics.py:205: RuntimeWarning: invalid value encountered in true_divide\n",
      "  iou = overlap / (n_pixels_pred + n_pixels_true - overlap)\n"
     ]
    },
    {
     "name": "stdout",
     "output_type": "stream",
     "text": [
      "Starting N_457_ds2x.npy\n",
      "Starting N_590_final_crop_ds2.npy\n",
      "Starting N_405_B_ds2x.npy\n",
      "Starting N_522_final_crop_ds2.npy\n",
      "Starting N_464_ds2x.npy\n",
      "Starting N_534_ds2x.npy\n",
      "Starting N_454_ds2x.npy\n",
      "Starting N_445_ds2x.npy\n",
      "Starting N_517_ds2x.npy\n",
      "Starting N_509_ds2x.npy\n",
      "Starting N_425_ds2x.npy\n",
      "Starting N_536_ds2x.npy\n",
      "Starting N_435_final_crop_ds2.npy\n",
      "Starting N_487_ds2x.npy\n",
      "Starting N_535_ds2x.npy\n",
      "Starting N_416_ds2x.npy\n",
      "Starting N_511_final_crop_ds2.npy\n",
      "Starting N_512_ds2x.npy\n",
      "Starting N_420_ds2x.npy\n",
      "Starting N_294_final_crop_ds2.npy\n",
      "Starting N_405_A_ds2x.npy\n",
      "Starting N_428_ds2x.npy\n",
      "Starting N_440_ds2x.npy\n",
      "Starting N_449_ds2x.npy\n",
      "Starting N_404_ds2x.npy\n",
      "Starting N_458_ds2x.npy\n",
      "Starting N_450_ds2x.npy\n",
      "Starting N_441_final_crop_ds2.npy\n",
      "Starting N_451_ds2x.npy\n",
      "Starting N_593_final_crop_ds2.npy\n"
     ]
    }
   ],
   "source": [
    "data = [] \n",
    "for filename in filenames:\n",
    "    print(\"Starting %s\" % filename)\n",
    "    labels = np.load('../data/ovules/labels/%s' % filename)\n",
    "    true_num_cells = np.unique(labels).size - 1 \n",
    "    true_avg_vol = get_avg_vol(labels) \n",
    "    \n",
    "    ct_stitched = np.load('./results/ovules/stitching/unstitched/%s' % filename) \n",
    "    full_stitch_reverse(ct_stitched)\n",
    "    np.save('./results/ovules/stitching/ct_rev_stitched/%s' % filename, ct_stitched)  \n",
    "    \n",
    "    num_cells = np.unique(ct_stitched).size - 1\n",
    "    d_num_cells = abs(num_cells - true_num_cells) / true_num_cells\n",
    "\n",
    "    avg_vol = get_avg_vol(ct_stitched)\n",
    "    d_avg_vol = abs(true_avg_vol - avg_vol) / true_avg_vol\n",
    "\n",
    "    ap, tp, fp, fn = average_precision(labels, ct_stitched, ap_threshold)\n",
    "    \n",
    "    row = [ \n",
    "        filename, \n",
    "        d_num_cells, \n",
    "        d_avg_vol, \n",
    "        ap, \n",
    "        tp, \n",
    "        fp, \n",
    "        fn\n",
    "    ]\n",
    "    \n",
    "    data.append(row)"
   ]
  },
  {
   "cell_type": "code",
   "execution_count": 4,
   "metadata": {},
   "outputs": [],
   "source": [
    "ct_rev_df = pd.DataFrame(data, columns=[\n",
    "    \"filename\", \n",
    "    \"d_num_cells\", \n",
    "    \"d_avg_vol\", \n",
    "    \"ap\", \n",
    "    \"tp\", \n",
    "    \"fp\", \n",
    "    \"rn\"\n",
    "])"
   ]
  },
  {
   "cell_type": "code",
   "execution_count": 5,
   "metadata": {},
   "outputs": [],
   "source": [
    "ct_rev_df.to_csv(\"./results/ovules/stitching/ct_rev.csv\", index=False)"
   ]
  },
  {
   "cell_type": "markdown",
   "metadata": {},
   "source": [
    "# Analyze Results"
   ]
  },
  {
   "cell_type": "markdown",
   "metadata": {},
   "source": [
    "Number of cells and average volume."
   ]
  },
  {
   "cell_type": "code",
   "execution_count": 23,
   "metadata": {},
   "outputs": [],
   "source": [
    "cp_df = pd.read_csv(\"./results/ovules/stitching/cp.csv\")\n",
    "ct_df = pd.read_csv(\"./results/ovules/stitching/ct_top.csv\")\n",
    "cte_df = pd.read_csv(\"./results/ovules/stitching/cte.csv\")\n",
    "ct_rev_df = pd.read_csv(\"./results/ovules/stitching/ct_rev.csv\")"
   ]
  },
  {
   "cell_type": "code",
   "execution_count": 24,
   "metadata": {},
   "outputs": [],
   "source": [
    "col_name = \"d_avg_vol\" # choose between d_num_cells and d_avg_vol "
   ]
  },
  {
   "cell_type": "code",
   "execution_count": 25,
   "metadata": {},
   "outputs": [],
   "source": [
    "cp_best_df = cp_df.groupby(['filename']).min()[col_name]\n",
    "cp_best_df = cp_best_df.reset_index()\n",
    "cp_best_df = cp_best_df.drop(columns=['filename'])\n",
    "\n",
    "cp_all_df = cp_df[col_name]\n",
    "cp_all_df = cp_all_df.reset_index()\n",
    "cp_all_df = cp_all_df.drop(columns=['index'])\n",
    "\n",
    "ct_df = ct_df[col_name]\n",
    "ct_df = ct_df.reset_index()\n",
    "ct_df = ct_df.drop(columns=['index'])\n",
    "\n",
    "cte_df = cte_df[col_name]\n",
    "cte_df = cte_df.reset_index()\n",
    "cte_df = cte_df.drop(columns=['index']) \n",
    "\n",
    "ct_rev_df = ct_rev_df[col_name]\n",
    "ct_rev_df = ct_rev_df.reset_index()\n",
    "ct_rev_df = ct_rev_df.drop(columns=['index']) \n",
    "\n",
    "cp_best_df['method'] = 'Cellpose_best'\n",
    "cp_all_df['method'] = 'Cellpose_all'\n",
    "cte_df['method'] = 'EuclideanStitch'\n",
    "ct_df['method'] = 'CellStitch(top)'\n",
    "ct_rev_df['method'] = 'CellStitch(bottom)'\n",
    "\n",
    "df = pd.concat([cp_best_df, cp_all_df, cte_df, ct_df, ct_rev_df])"
   ]
  },
  {
   "cell_type": "code",
   "execution_count": 26,
   "metadata": {},
   "outputs": [
    {
     "data": {
      "image/png": "[encoded data removed]",
      "text/plain": [
       "<Figure size 432x288 with 1 Axes>"
      ]
     },
     "metadata": {
      "needs_background": "light"
     },
     "output_type": "display_data"
    }
   ],
   "source": [
    "ax = sns.boxplot(data=df, x=\"method\", y=col_name, color=\"lightcoral\")\n",
    "plt.title(\"deviation of the average cell volumes\")\n",
    "ax.set(xlabel=None)\n",
    "plt.savefig('./figures/%s.png' % col_name)"
   ]
  },
  {
   "cell_type": "markdown",
   "metadata": {},
   "source": [
    "Average precision. "
   ]
  },
  {
   "cell_type": "code",
   "execution_count": 33,
   "metadata": {},
   "outputs": [],
   "source": [
    "cp_df = pd.read_csv(\"./results/ovules/stitching/cp.csv\")\n",
    "ct_df = pd.read_csv(\"./results/ovules/stitching/ct_top.csv\")\n",
    "cte_df = pd.read_csv(\"./results/ovules/stitching/cte.csv\")\n",
    "ct_rev_df = pd.read_csv(\"./results/ovules/stitching/ct_rev.csv\")"
   ]
  },
  {
   "cell_type": "code",
   "execution_count": 34,
   "metadata": {},
   "outputs": [],
   "source": [
    "col_name = 'ap'"
   ]
  },
  {
   "cell_type": "code",
   "execution_count": 35,
   "metadata": {},
   "outputs": [],
   "source": [
    "cp_best_df = cp_df.groupby(['filename']).max()[col_name]\n",
    "cp_best_df = cp_best_df.reset_index()\n",
    "cp_best_df = cp_best_df.drop(columns=['filename'])\n",
    "cp_all_df = cp_df[col_name]\n",
    "cp_all_df = cp_all_df.reset_index()\n",
    "cp_all_df = cp_all_df.drop(columns=['index'])\n",
    "\n",
    "ct_df = ct_df[col_name]\n",
    "ct_df = ct_df.reset_index()\n",
    "ct_df = ct_df.drop(columns=['index'])\n",
    "\n",
    "cte_df = cte_df[col_name]\n",
    "cte_df = cte_df.reset_index()\n",
    "cte_df = cte_df.drop(columns=['index'])   \n",
    "\n",
    "ct_rev_df = ct_rev_df[col_name]\n",
    "ct_rev_df = ct_rev_df.reset_index()\n",
    "ct_rev_df = ct_rev_df.drop(columns=['index'])   \n",
    "\n",
    "cp_best_df['method'] = 'Cellpose_best'\n",
    "cp_all_df['method'] = 'Cellpose_all'\n",
    "cte_df['method'] = 'EuclideanStitch'\n",
    "ct_df['method'] = 'CellStitch(top)'\n",
    "ct_rev_df['method'] = 'CellStitch(bottom)'\n",
    "\n",
    "df = pd.concat([cp_best_df, cp_all_df, cte_df, ct_df, ct_rev_df])"
   ]
  },
  {
   "cell_type": "code",
   "execution_count": 36,
   "metadata": {},
   "outputs": [
    {
     "data": {
      "image/png": "[encoded data removed]",
      "text/plain": [
       "<Figure size 432x288 with 1 Axes>"
      ]
     },
     "metadata": {
      "needs_background": "light"
     },
     "output_type": "display_data"
    }
   ],
   "source": [
    "ax = sns.boxplot(data=df, x=\"method\", y=col_name, color=\"seagreen\")\n",
    "ax.set(xlabel=None)\n",
    "ax.set(ylabel='average precision')\n",
    "plt.savefig('./figures/%s.png' % col_name)"
   ]
  },
  {
   "cell_type": "code",
   "execution_count": null,
   "metadata": {},
   "outputs": [],
   "source": []
  }
 ],
 "metadata": {
  "kernelspec": {
   "display_name": "segmentation-aeolus",
   "language": "python",
   "name": "segmentation-aeolus"
  },
  "language_info": {
   "codemirror_mode": {
    "name": "ipython",
    "version": 3
   },
   "file_extension": ".py",
   "mimetype": "text/x-python",
   "name": "python",
   "nbconvert_exporter": "python",
   "pygments_lexer": "ipython3",
   "version": "3.8.13"
  }
 },
 "nbformat": 4,
 "nbformat_minor": 5
}
