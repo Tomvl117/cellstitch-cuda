{
 "cells": [
  {
   "cell_type": "code",
   "execution_count": null,
   "metadata": {},
   "outputs": [],
   "source": [
    "import numpy as np\n",
    "from cellpose import models\n",
    "from cellstitch.pipeline import *"
   ]
  },
  {
   "cell_type": "code",
   "execution_count": null,
   "metadata": {},
   "outputs": [],
   "source": [
    "# Fill in filename for raw image (including the paths)\n",
    "filename = '<path>/<filename>.npy'\n",
    "\n",
    "# Fill in on the path you would like to store the stitched mask\n",
    "save_path = '<path>/<filename>.npy'"
   ]
  },
  {
   "cell_type": "code",
   "execution_count": null,
   "metadata": {},
   "outputs": [],
   "source": [
    "# load cellpose model for backbone segmentation\n",
    "# you can also replace with any 2D segmentation model that works the best for your dataset\n",
    "flow_threshold = 1\n",
    "model = models.Cellpose(model_type='cyto2')"
   ]
  },
  {
   "cell_type": "code",
   "execution_count": null,
   "metadata": {},
   "outputs": [],
   "source": [
    "img = np.load(filename) \n",
    "    \n",
    "cellstitch, _, _ = model.eval(list(img), flow_threshold=flow_threshold, channels = [0,0])\n",
    "cellstitch = np.array(cellstitch)\n",
    "\n",
    "yz_masks, _, _ = model.eval(list(img.transpose(1,0,2)), flow_threshold=flow_threshold, channels = [0,0])\n",
    "yz_masks = np.array(yz_masks).transpose(1,0,2)\n",
    "\n",
    "xz_masks, _, _ = model.eval(list(img.transpose(2,1,0)), flow_threshold=flow_threshold, channels = [0,0])\n",
    "xz_masks = np.array(xz_masks).transpose(2,1,0)\n",
    "\n",
    "full_stitch(cellstitch, yz_masks, xz_masks)"
   ]
  },
  {
   "cell_type": "code",
   "execution_count": null,
   "metadata": {},
   "outputs": [],
   "source": [
    "np.save(save_path, cellstitch)"
   ]
  }
 ],
 "metadata": {
  "kernelspec": {
   "display_name": "Python 3",
   "language": "python",
   "name": "python3"
  },
  "language_info": {
   "codemirror_mode": {
    "name": "ipython",
    "version": 3
   },
   "file_extension": ".py",
   "mimetype": "text/x-python",
   "name": "python",
   "nbconvert_exporter": "python",
   "pygments_lexer": "ipython3",
   "version": "3.8.3"
  }
 },
 "nbformat": 4,
 "nbformat_minor": 4
}
