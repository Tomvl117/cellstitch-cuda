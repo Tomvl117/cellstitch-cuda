{
 "cells": [
  {
   "cell_type": "markdown",
   "metadata": {},
   "source": [
    "## Example notebook for running CellStitch"
   ]
  },
  {
   "cell_type": "code",
   "execution_count": 1,
   "metadata": {},
   "outputs": [
    {
     "name": "stderr",
     "output_type": "stream",
     "text": [
      "/home/yinuo/anaconda3/lib/python3.8/site-packages/requests/__init__.py:102: RequestsDependencyWarning: urllib3 (2.1.0) or chardet (5.1.0)/charset_normalizer (2.0.4) doesn't match a supported version!\n",
      "  warnings.warn(\"urllib3 ({}) or chardet ({})/charset_normalizer ({}) doesn't match a supported \"\n"
     ]
    }
   ],
   "source": [
    "import os\n",
    "import numpy as np\n",
    "import torch\n",
    "import tifffile\n",
    "from cellpose.models import Cellpose\n",
    "from skimage import io\n",
    "\n",
    "from cellstitch.pipeline import full_stitch"
   ]
  },
  {
   "cell_type": "code",
   "execution_count": 2,
   "metadata": {},
   "outputs": [],
   "source": [
    "# Plotting specifications\n",
    "from matplotlib import rcParams\n",
    "from IPython.display import display\n",
    "rcParams.update({'font.size': 10})"
   ]
  },
  {
   "cell_type": "markdown",
   "metadata": {},
   "source": [
    "### (1). Load example pairs of raw image & ground-truth mask"
   ]
  },
  {
   "cell_type": "code",
   "execution_count": 3,
   "metadata": {},
   "outputs": [],
   "source": [
    "# Fill in filename for raw image (including the paths)\n",
    "filename = '<path>/<filename>'\n",
    "maskname = '<path>/<filename>'\n",
    "\n",
    "# Fill in on the path you would like to store the stitched mask\n",
    "output_path = '<path>'\n",
    "output_filename = '<filename>'"
   ]
  },
  {
   "cell_type": "markdown",
   "metadata": {},
   "source": [
    "Example code snippet\n",
    "```python\n",
    "filename = '../data/plant_atlas/Anther/Anther_20.tif'\n",
    "maskname = '../data/plant_atlas/Anther_masks/Anther_20.tif'\n",
    "\n",
    "output_path = '../results/'\n",
    "if not os.exist(output_path):\n",
    "    os.makedirs(output_path, exist_ok=True)\n",
    "    \n",
    "output_filename = 'cellstitch_sample_pred.npy'\n",
    "```"
   ]
  },
  {
   "cell_type": "code",
   "execution_count": 3,
   "metadata": {},
   "outputs": []
  },
  {
   "cell_type": "code",
   "execution_count": 4,
   "metadata": {},
   "outputs": [],
   "source": [
    "# Load image & masks\n",
    "if filename[-3:] == 'npy':  # image in .npy format\n",
    "    img = np.load(filename)\n",
    "elif filename[-3:] == 'tif': # imagge in TIFF format\n",
    "    img = tifffile.imread(filename)\n",
    "else:\n",
    "    try:\n",
    "        img = io.imread(filename)\n",
    "    except:\n",
    "        raise IOError('Failed to load image {}'.format(filename))\n",
    "\n",
    "if maskname[-3:] == 'npy':  # image in .npy format\n",
    "    mask = np.load(maskname)\n",
    "elif filename[-3:] == 'tif': # imagge in TIFF format\n",
    "    mask = tifffile.imread(maskname)\n",
    "else:\n",
    "    try:\n",
    "        mask = io.imread(maskname)\n",
    "    except:\n",
    "        raise IOError('Failed to load image {}'.format(filename))\n"
   ]
  },
  {
   "cell_type": "markdown",
   "metadata": {},
   "source": [
    "### (2). Define configs & parameters"
   ]
  },
  {
   "cell_type": "code",
   "execution_count": 5,
   "metadata": {},
   "outputs": [],
   "source": [
    "# load cellpose model for backbone segmentation\n",
    "# you can also replace with any 2D segmentation model that works the best for your dataset\n",
    "flow_threshold = 1\n",
    "use_gpu = True if torch.cuda.is_available() else False\n",
    "model = Cellpose(model_type='cyto2', gpu=use_gpu)\n"
   ]
  },
  {
   "cell_type": "markdown",
   "metadata": {},
   "source": [
    "### (3). Run CellStitch"
   ]
  },
  {
   "cell_type": "code",
   "execution_count": 7,
   "metadata": {},
   "outputs": [
    {
     "name": "stderr",
     "output_type": "stream",
     "text": [
      "WARNING: no mask pixels found\n",
      "WARNING: no mask pixels found\n",
      "WARNING: no mask pixels found\n"
     ]
    }
   ],
   "source": [
    "xy_masks, _, _, _ = model.eval(list(img), flow_threshold=flow_threshold, channels = [0,0])\n",
    "xy_masks = np.array(xy_masks)\n",
    "\n",
    "yz_masks, _, _, _ = model.eval(list(img.transpose(1,0,2)), flow_threshold=flow_threshold, channels = [0,0])\n",
    "yz_masks = np.array(yz_masks).transpose(1,0,2)\n",
    "\n",
    "xz_masks, _, _, _ = model.eval(list(img.transpose(2,1,0)), flow_threshold=flow_threshold, channels = [0,0])\n",
    "xz_masks = np.array(xz_masks).transpose(2,1,0)\n",
    "\n",
    "cellstitch_masks = full_stitch(xy_masks, yz_masks, xz_masks)"
   ]
  },
  {
   "cell_type": "markdown",
   "metadata": {},
   "source": [
    "### (4). Save the Stitching results:"
   ]
  },
  {
   "cell_type": "code",
   "execution_count": 21,
   "metadata": {},
   "outputs": [],
   "source": [
    "np.save(os.path.join(output_path, output_filename), cellstitch_masks)"
   ]
  },
  {
   "cell_type": "markdown",
   "metadata": {},
   "source": [
    "---"
   ]
  }
 ],
 "metadata": {
  "kernelspec": {
   "display_name": "Python 3",
   "language": "python",
   "name": "python3"
  },
  "language_info": {
   "codemirror_mode": {
    "name": "ipython",
    "version": 3
   },
   "file_extension": ".py",
   "mimetype": "text/x-python",
   "name": "python",
   "nbconvert_exporter": "python",
   "pygments_lexer": "ipython3",
   "version": "3.8.3"
  }
 },
 "nbformat": 4,
 "nbformat_minor": 4
}
