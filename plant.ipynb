{
 "cells": [
  {
   "cell_type": "code",
   "execution_count": 45,
   "id": "669569e4",
   "metadata": {},
   "outputs": [],
   "source": [
    "import tifffile\n",
    "from cellpose import models\n",
    "import numpy as np\n",
    "from cellstitch.pipeline import *\n",
    "from cellstitch.evaluation import *\n",
    "import pandas as pd"
   ]
  },
  {
   "cell_type": "code",
   "execution_count": 52,
   "id": "e766db4c",
   "metadata": {},
   "outputs": [],
   "source": [
    "dataset = \"Sepal\""
   ]
  },
  {
   "cell_type": "code",
   "execution_count": 53,
   "id": "6f558147",
   "metadata": {},
   "outputs": [],
   "source": [
    "flow_threshold = 1\n",
    "model = models.Cellpose(model_type='cyto')"
   ]
  },
  {
   "cell_type": "markdown",
   "id": "8d9b0477",
   "metadata": {},
   "source": [
    "###  Generate cellpose3d results"
   ]
  },
  {
   "cell_type": "code",
   "execution_count": 54,
   "id": "2b2e81f9",
   "metadata": {},
   "outputs": [
    {
     "name": "stdout",
     "output_type": "stream",
     "text": [
      "Starting Sepal_00\n",
      "Starting Sepal_01\n",
      "Starting Sepal_02\n",
      "Starting Sepal_03\n",
      "Starting Sepal_04\n",
      "Starting Sepal_05\n",
      "Starting Sepal_06\n",
      "Starting Sepal_07\n",
      "Starting Sepal_08\n",
      "Starting Sepal_09\n",
      "Starting Sepal_10\n",
      "Starting Sepal_11\n",
      "Starting Sepal_12\n",
      "Starting Sepal_13\n",
      "Starting Sepal_14\n",
      "Starting Sepal_15\n",
      "Starting Sepal_16\n",
      "Starting Sepal_17\n",
      "Starting Sepal_18\n",
      "Starting Sepal_19\n",
      "Starting Sepal_20\n",
      "Starting Sepal_21\n",
      "Starting Sepal_22\n",
      "Starting Sepal_23\n",
      "Starting Sepal_24\n",
      "Starting Sepal_25\n",
      "Starting Sepal_26\n",
      "Starting Sepal_27\n",
      "Starting Sepal_28\n",
      "Starting Sepal_29\n",
      "Starting Sepal_30\n",
      "Starting Sepal_31\n",
      "Starting Sepal_32\n",
      "Starting Sepal_33\n",
      "Starting Sepal_34\n",
      "Starting Sepal_35\n",
      "Starting Sepal_36\n",
      "Starting Sepal_37\n",
      "Starting Sepal_38\n",
      "Starting Sepal_39\n",
      "Starting Sepal_40\n",
      "Starting Sepal_41\n",
      "Starting Sepal_42\n",
      "Starting Sepal_43\n",
      "Starting Sepal_44\n",
      "Starting Sepal_45\n",
      "Starting Sepal_46\n",
      "Starting Sepal_47\n",
      "Starting Sepal_48\n",
      "Starting Sepal_49\n"
     ]
    }
   ],
   "source": [
    "for i in range(50): \n",
    "    test_filename = \"%s_%02d\" % (dataset, i)\n",
    "    print(\"Starting %s\" % test_filename)\n",
    "    img = tifffile.imread(\"../DATA/%s/%s.tif\" % (dataset, test_filename))\n",
    "    masks, _, _, _ = model.eval(img, do_3D=True, flow_threshold=flow_threshold)\n",
    "    np.save(\"./results/%s/cellpose3d/%s.npy\" % (dataset, test_filename), masks) "
   ]
  },
  {
   "cell_type": "markdown",
   "id": "48209051",
   "metadata": {},
   "source": [
    "## Generate cellstitch results"
   ]
  },
  {
   "cell_type": "code",
   "execution_count": null,
   "id": "6393a92e",
   "metadata": {},
   "outputs": [
    {
     "name": "stdout",
     "output_type": "stream",
     "text": [
      "Starting Sepal_00\n",
      "Starting Sepal_01\n",
      "Starting Sepal_02\n",
      "Starting Sepal_03\n",
      "Starting Sepal_04\n",
      "Starting Sepal_05\n",
      "Starting Sepal_06\n",
      "Starting Sepal_07\n",
      "Starting Sepal_08\n",
      "Starting Sepal_09\n"
     ]
    },
    {
     "name": "stderr",
     "output_type": "stream",
     "text": [
      "WARNING: no mask pixels found\n"
     ]
    },
    {
     "name": "stdout",
     "output_type": "stream",
     "text": [
      "Starting Sepal_10\n"
     ]
    },
    {
     "name": "stderr",
     "output_type": "stream",
     "text": [
      "WARNING: no mask pixels found\n",
      "WARNING: no mask pixels found\n",
      "WARNING: no mask pixels found\n"
     ]
    },
    {
     "name": "stdout",
     "output_type": "stream",
     "text": [
      "Starting Sepal_11\n",
      "Starting Sepal_12\n",
      "Starting Sepal_13\n",
      "Starting Sepal_14\n",
      "Starting Sepal_15\n",
      "Starting Sepal_16\n",
      "Starting Sepal_17\n",
      "Starting Sepal_18\n"
     ]
    },
    {
     "name": "stderr",
     "output_type": "stream",
     "text": [
      "WARNING: no mask pixels found\n"
     ]
    },
    {
     "name": "stdout",
     "output_type": "stream",
     "text": [
      "Starting Sepal_19\n",
      "Starting Sepal_20\n",
      "Starting Sepal_21\n",
      "Starting Sepal_22\n"
     ]
    },
    {
     "name": "stderr",
     "output_type": "stream",
     "text": [
      "WARNING: no mask pixels found\n",
      "WARNING: no mask pixels found\n",
      "WARNING: no mask pixels found\n",
      "WARNING: no mask pixels found\n",
      "WARNING: no mask pixels found\n",
      "WARNING: no mask pixels found\n",
      "WARNING: no mask pixels found\n",
      "WARNING: no mask pixels found\n"
     ]
    },
    {
     "name": "stdout",
     "output_type": "stream",
     "text": [
      "Starting Sepal_23\n",
      "Starting Sepal_24\n",
      "Starting Sepal_25\n",
      "Starting Sepal_26\n",
      "Starting Sepal_27\n"
     ]
    }
   ],
   "source": [
    "for i in range(50): \n",
    "    test_filename = \"%s_%02d\" % (dataset, i)\n",
    "    print(\"Starting %s\" % test_filename)\n",
    "    img = tifffile.imread(\"../DATA/%s/%s.tif\" % (dataset, test_filename))\n",
    "    \n",
    "    cellstitch, _, _, _ = model.eval(list(img), flow_threshold=flow_threshold)\n",
    "    cellstitch = np.array(cellstitch)\n",
    "\n",
    "    yz_masks, _, _, _ = model.eval(list(img.transpose(1,0,2)), flow_threshold=flow_threshold)\n",
    "    yz_masks = np.array(yz_masks).transpose(1,0,2)\n",
    "\n",
    "    xz_masks, _, _, _ = model.eval(list(img.transpose(2,1,0)), flow_threshold=flow_threshold)\n",
    "    xz_masks = np.array(xz_masks).transpose(2,1,0)\n",
    "\n",
    "    full_stitch(cellstitch, yz_masks, xz_masks)\n",
    "    \n",
    "    np.save(\"./results/%s/cellstitch/%s.npy\" % (dataset, test_filename), cellstitch)  "
   ]
  },
  {
   "cell_type": "markdown",
   "id": "f86ecdd1",
   "metadata": {},
   "source": [
    "# Benchmark results"
   ]
  },
  {
   "cell_type": "code",
   "execution_count": null,
   "id": "5446b842",
   "metadata": {},
   "outputs": [],
   "source": [
    "ap_threshold = 0.5"
   ]
  },
  {
   "cell_type": "code",
   "execution_count": null,
   "id": "1c12b21f",
   "metadata": {},
   "outputs": [],
   "source": [
    "methods = [\"cellstitch\", \"cellpose3d\"]\n",
    "\n",
    "for method in methods: \n",
    "    data = [] \n",
    "    for i in range(50): \n",
    "        filename = \"%s_%02d\" % (dataset, i)\n",
    "        labels = tifffile.imread('../DATA/%s/%s_mask.tif' % (dataset, filename))\n",
    "        true_num_cells = np.unique(labels).size - 1 \n",
    "        true_avg_vol = get_avg_vol(labels) \n",
    "    \n",
    "        masks = np.load(\"./results/%s/%s/%s.npy\" % (dataset, method, filename))\n",
    "\n",
    "        num_cells = np.unique(masks).size - 1\n",
    "        d_num_cells = abs(num_cells - true_num_cells) / true_num_cells\n",
    "\n",
    "        avg_vol = get_avg_vol(masks)\n",
    "        d_avg_vol = abs(true_avg_vol - avg_vol) / true_avg_vol\n",
    "\n",
    "        ap, tp, fp, fn = average_precision(labels, masks, ap_threshold)\n",
    "        precision = tp / (tp + fp)\n",
    "        recall = tp / (tp + fn)\n",
    "    \n",
    "        row = [\n",
    "            filename, \n",
    "            d_num_cells, \n",
    "            d_avg_vol, \n",
    "            ap, \n",
    "            tp, \n",
    "            fp, \n",
    "            fn, \n",
    "            precision,\n",
    "            recall, \n",
    "            true_num_cells, \n",
    "            true_avg_vol, \n",
    "            num_cells, \n",
    "            avg_vol\n",
    "        ]\n",
    "\n",
    "        data.append(row)\n",
    "\n",
    "    df = pd.DataFrame(data, columns=[\n",
    "        \"filename\",  \n",
    "        \"d_num_cells\", \n",
    "        \"d_avg_vol\", \n",
    "        \"ap\", \n",
    "        \"tp\", \n",
    "        \"fp\", \n",
    "        \"fn\",\n",
    "        \"precision\",\n",
    "        \"recall\",\n",
    "        \"true_num_cells\", \n",
    "        \"true_avg_vol\", \n",
    "        \"num_cells\", \n",
    "        \"avg_vol\"\n",
    "    ])\n",
    "\n",
    "    df.to_csv(\"./results/%s/%s.csv\" % (dataset, method), index=False)"
   ]
  },
  {
   "cell_type": "markdown",
   "id": "675872f3",
   "metadata": {},
   "source": [
    "# Analyze results"
   ]
  },
  {
   "cell_type": "code",
   "execution_count": 35,
   "id": "c44f7db4",
   "metadata": {},
   "outputs": [],
   "source": [
    "method = 'cellpose3d'"
   ]
  },
  {
   "cell_type": "code",
   "execution_count": 36,
   "id": "4528fc5b",
   "metadata": {},
   "outputs": [],
   "source": [
    "df = pd.read_csv(\"./results/%s/%s.csv\" % (dataset, method))"
   ]
  },
  {
   "cell_type": "code",
   "execution_count": 37,
   "id": "ace8c337",
   "metadata": {},
   "outputs": [
    {
     "name": "stderr",
     "output_type": "stream",
     "text": [
      "/tmp/ipykernel_584482/3698961737.py:1: FutureWarning: Dropping of nuisance columns in DataFrame reductions (with 'numeric_only=None') is deprecated; in a future version this will raise TypeError.  Select only valid columns before calling the reduction.\n",
      "  df.mean()\n"
     ]
    },
    {
     "data": {
      "text/plain": [
       "d_num_cells           0.948993\n",
       "d_avg_vol             0.975368\n",
       "ap                    0.003825\n",
       "tp                    0.640000\n",
       "fp                  109.420000\n",
       "fn                   63.880000\n",
       "precision             0.006373\n",
       "recall                0.011212\n",
       "true_num_cells       64.200000\n",
       "true_avg_vol      13797.459971\n",
       "num_cells           109.740000\n",
       "avg_vol             339.756656\n",
       "dtype: float64"
      ]
     },
     "execution_count": 37,
     "metadata": {},
     "output_type": "execute_result"
    }
   ],
   "source": [
    "df.mean()"
   ]
  },
  {
   "cell_type": "code",
   "execution_count": null,
   "id": "2c51e7ad",
   "metadata": {},
   "outputs": [],
   "source": []
  }
 ],
 "metadata": {
  "kernelspec": {
   "display_name": "segmentation-aeolus",
   "language": "python",
   "name": "segmentation-aeolus"
  },
  "language_info": {
   "codemirror_mode": {
    "name": "ipython",
    "version": 3
   },
   "file_extension": ".py",
   "mimetype": "text/x-python",
   "name": "python",
   "nbconvert_exporter": "python",
   "pygments_lexer": "ipython3",
   "version": "3.8.13"
  }
 },
 "nbformat": 4,
 "nbformat_minor": 5
}
