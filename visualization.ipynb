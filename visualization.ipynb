{
 "cells": [
  {
   "cell_type": "code",
   "execution_count": 1,
   "id": "b91ed4ef",
   "metadata": {},
   "outputs": [],
   "source": [
    "import napari\n",
    "import numpy as np"
   ]
  },
  {
   "cell_type": "code",
   "execution_count": 2,
   "id": "66e6e0b5",
   "metadata": {},
   "outputs": [],
   "source": [
    "filename = \"N_294_final_crop_ds2.npy\"\n",
    "\n",
    "img = np.load(\"../../data/ovules/raw/%s\" % filename)\n",
    "labels = np.load(\"../../data/ovules/labels/%s\" % filename)\n",
    "masks = np.load(\"./results/cellstitch.npy\") "
   ]
  },
  {
   "cell_type": "code",
   "execution_count": 3,
   "id": "5ed351f8",
   "metadata": {},
   "outputs": [],
   "source": [
    "viewer = napari.view_image(img)\n",
    "viewer.add_labels(labels, name=\"labels\")\n",
    "viewer.add_labels(masks, name=\"masks\")\n",
    "napari.run()"
   ]
  },
  {
   "cell_type": "code",
   "execution_count": null,
   "id": "e1fe5534",
   "metadata": {},
   "outputs": [],
   "source": []
  }
 ],
 "metadata": {
  "kernelspec": {
   "display_name": "segmentation",
   "language": "python",
   "name": "segmentation"
  },
  "language_info": {
   "codemirror_mode": {
    "name": "ipython",
    "version": 3
   },
   "file_extension": ".py",
   "mimetype": "text/x-python",
   "name": "python",
   "nbconvert_exporter": "python",
   "pygments_lexer": "ipython3",
   "version": "3.8.12"
  }
 },
 "nbformat": 4,
 "nbformat_minor": 5
}
