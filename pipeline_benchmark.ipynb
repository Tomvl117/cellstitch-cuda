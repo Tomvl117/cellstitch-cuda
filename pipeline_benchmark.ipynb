{
 "cells": [
  {
   "cell_type": "code",
   "execution_count": 1,
   "id": "a4249c11",
   "metadata": {},
   "outputs": [],
   "source": [
    "import h5py\n",
    "import numpy as np\n",
    "import imageio\n",
    "from cellpose import models\n",
    "from cellstitch.pipeline import *\n",
    "from cellstitch.evaluation import *\n",
    "import pandas as pd"
   ]
  },
  {
   "cell_type": "markdown",
   "id": "2e532f7a",
   "metadata": {},
   "source": [
    "# Pipeline Benchmark\n",
    "\n",
    "Comparision between cellstitch (2D), 3Dcellpose (2.5D), plantseg (3D); using the same training set. \n",
    "### PlantSeg\n",
    "- First, created a plantseg virtual enviroment: \n",
    "`conda create -n plant-seg -c pytorch -c conda-forge -c lcerrone -c awolny pytorch=1.9 pytorch-3dunet=1.3.7 plantseg` \n",
    "- activate the environment: `conda activate plant-seg` \n",
    "- download the ovules test dataset: https://osf.io/uzq3w/ to `../data/ovules/plantseg_test/`\n",
    "- perform segmentation with the `confocal_unet_bce_dice_ds1x` by running `plantseg --config plantseg.yaml`\n",
    "- the predictions are saved to `../data/ovules/plantseg_test/PreProcessing/confocal_unet_bce_dice_ds1x/\n",
    "`"
   ]
  },
  {
   "cell_type": "code",
   "execution_count": 2,
   "id": "6f9fae7a",
   "metadata": {},
   "outputs": [],
   "source": [
    "plantseg_results_folder = \"../data/ovules/plantseg_test/PreProcessing/confocal_unet_bce_dice_ds1x/MultiCut/\""
   ]
  },
  {
   "cell_type": "code",
   "execution_count": 2,
   "id": "05450dce",
   "metadata": {},
   "outputs": [],
   "source": [
    "test_filenames = [\"N_294_final_crop_ds2\", \n",
    "                 \"N_435_final_crop_ds2\",\n",
    "                 \"N_441_final_crop_ds2\",\n",
    "                 \"N_511_final_crop_ds2\",\n",
    "                 \"N_522_final_crop_ds2\",\n",
    "                 \"N_590_final_crop_ds2\",\n",
    "                 \"N_593_final_crop_ds2\"]"
   ]
  },
  {
   "cell_type": "code",
   "execution_count": 5,
   "id": "48b1bbfd",
   "metadata": {},
   "outputs": [
    {
     "name": "stdout",
     "output_type": "stream",
     "text": [
      "Starting N_294_final_crop_ds2\n",
      "Starting N_435_final_crop_ds2\n",
      "Starting N_441_final_crop_ds2\n",
      "Starting N_511_final_crop_ds2\n",
      "Starting N_522_final_crop_ds2\n",
      "Starting N_590_final_crop_ds2\n",
      "Starting N_593_final_crop_ds2\n"
     ]
    }
   ],
   "source": [
    "for test_filename in test_filenames: \n",
    "    print(\"Starting %s\" % test_filename) \n",
    "    \n",
    "    with h5py.File(\"%s/%s_predictions_multicut.h5\" % (plantseg_results_folder, test_filename), \"r\") as f:\n",
    "        plantseg = np.array(list(f['segmentation'])) \n",
    "        \n",
    "    plantseg[np.where(plantseg == 1)] = 0 # plantseg use 1 as labels\n",
    "    np.save(\"./results/ovules/pipeline/plantseg/%s.npy\" % test_filename, plantseg)"
   ]
  },
  {
   "cell_type": "markdown",
   "id": "5f94e852",
   "metadata": {},
   "source": [
    "### Train cellpose model from scratch\n",
    "First, need to prepare training data for cellpose."
   ]
  },
  {
   "cell_type": "code",
   "execution_count": 11,
   "id": "09a23e7d",
   "metadata": {},
   "outputs": [],
   "source": [
    "train_filenames = [\"N_404_ds2x.npy\", \n",
    "                  \"N_405_A_ds2x.npy\", \n",
    "                  \"N_405_B_ds2x.npy\", \n",
    "                  \"N_416_ds2x.npy\",\n",
    "                  \"N_422_ds2x.npy\",\n",
    "                  \"N_425_ds2x.npy\",\n",
    "                  \"N_428_ds2x.npy\",\n",
    "                  \"N_440_ds2x.npy\",\n",
    "                  \"N_445_ds2x.npy\",\n",
    "                  \"N_449_ds2x.npy\",\n",
    "                  \"N_450_ds2x.npy\", \n",
    "                  \"N_451_ds2x.npy\",\n",
    "                  \"N_454_ds2x.npy\",\n",
    "                  \"N_457_ds2x.npy\",\n",
    "                  \"N_458_ds2x.npy\",\n",
    "                  \"N_487_ds2x.npy\",\n",
    "                  \"N_509_ds2x.npy\",\n",
    "                  \"N_512_ds2x.npy\",\n",
    "                   \"N_517_ds2x.npy\",\n",
    "                  \"N_534_ds2x.npy\",\n",
    "                  \"N_535_ds2x.npy\",\n",
    "                  \"N_536_ds2x.npy\"]\n",
    "\n",
    "ovules_folder = \"../data/ovules\"\n",
    "cellpose_folder = \"../data/ovules/cellpose_train\""
   ]
  },
  {
   "cell_type": "code",
   "execution_count": 12,
   "id": "f92027aa",
   "metadata": {},
   "outputs": [],
   "source": [
    "for train_filename in train_filenames: \n",
    "    img = np.load(\"%s/raw/%s\" % (ovules_folder, train_filename))\n",
    "    labels = np.load(\"%s/labels/%s\" % (ovules_folder, train_filename)) \n",
    "    depth = img.shape[0] \n",
    "    \n",
    "    for i in range(depth): \n",
    "        imageio.imwrite(\"%s/%s_%s.tif\" % (cellpose_folder, train_filename, i), img[i])\n",
    "        imageio.imwrite(\"%s/%s_%s_masks.tif\" % (cellpose_folder, train_filename, i), labels[i])"
   ]
  },
  {
   "cell_type": "markdown",
   "id": "1c5e2a53",
   "metadata": {},
   "source": [
    "`python -m cellpose --train --dir ../data/ovules/cellpose_train --pretrained_model None --n_epochs 100  --verbose` "
   ]
  },
  {
   "cell_type": "markdown",
   "id": "239f0c0c",
   "metadata": {},
   "source": [
    "### Generate cellpose3d results"
   ]
  },
  {
   "cell_type": "code",
   "execution_count": 14,
   "id": "c125413b",
   "metadata": {},
   "outputs": [],
   "source": [
    "model_dir = '../data/ovules/cellpose_train/models/cellpose_residual_on_style_on_concatenation_off_cellpose_train_2022_09_19_14_23_42.578556'"
   ]
  },
  {
   "cell_type": "code",
   "execution_count": 15,
   "id": "a266c490",
   "metadata": {},
   "outputs": [],
   "source": [
    "test_filenames = [\"N_294_final_crop_ds2\", \n",
    "                 \"N_435_final_crop_ds2\",\n",
    "                 \"N_441_final_crop_ds2\",\n",
    "                 \"N_511_final_crop_ds2\",\n",
    "                 \"N_522_final_crop_ds2\",\n",
    "                 \"N_590_final_crop_ds2\",\n",
    "                 \"N_593_final_crop_ds2\"]\n",
    "ovules_folder = \"../data/ovules\""
   ]
  },
  {
   "cell_type": "code",
   "execution_count": 16,
   "id": "03435142",
   "metadata": {},
   "outputs": [],
   "source": [
    "flow_threshold = 1\n",
    "model = models.CellposeModel(gpu=True, pretrained_model=model_dir)"
   ]
  },
  {
   "cell_type": "code",
   "execution_count": 6,
   "id": "ed7d3227",
   "metadata": {},
   "outputs": [
    {
     "name": "stdout",
     "output_type": "stream",
     "text": [
      "Starting N_294_final_crop_ds2\n",
      "Starting N_435_final_crop_ds2\n",
      "Starting N_441_final_crop_ds2\n",
      "Starting N_511_final_crop_ds2\n",
      "Starting N_522_final_crop_ds2\n",
      "Starting N_590_final_crop_ds2\n",
      "Starting N_593_final_crop_ds2\n"
     ]
    }
   ],
   "source": [
    "for test_filename in test_filenames: \n",
    "    print(\"Starting %s\" % test_filename)\n",
    "    img = np.load(\"%s/raw/%s.npy\" % (ovules_folder, test_filename)) \n",
    "    masks, _, _ = model.eval(img, do_3D=True, flow_threshold=flow_threshold, channels = [0,0]) \n",
    "    np.save(\"./results/ovules/pipeline/cellpose3d/%s.npy\" % test_filename, masks) "
   ]
  },
  {
   "cell_type": "markdown",
   "id": "c018e5e1",
   "metadata": {},
   "source": [
    "### Generate cellstitch results"
   ]
  },
  {
   "cell_type": "code",
   "execution_count": 17,
   "id": "0076d506",
   "metadata": {},
   "outputs": [
    {
     "name": "stdout",
     "output_type": "stream",
     "text": [
      "Starting N_294_final_crop_ds2\n",
      "Starting N_435_final_crop_ds2\n",
      "Starting N_441_final_crop_ds2\n",
      "Starting N_511_final_crop_ds2\n",
      "Starting N_522_final_crop_ds2\n",
      "Starting N_590_final_crop_ds2\n",
      "Starting N_593_final_crop_ds2\n"
     ]
    }
   ],
   "source": [
    "for test_filename in test_filenames: \n",
    "    print(\"Starting %s\" % test_filename)\n",
    "    img = np.load(\"%s/raw/%s.npy\" % (ovules_folder, test_filename)) \n",
    "    \n",
    "    masks, _, _ = model.eval(list(img), flow_threshold=flow_threshold, channels = [0,0]) \n",
    "    cellstitch = np.array(masks)\n",
    "    full_stitch(cellstitch) \n",
    "    np.save(\"./results/ovules/pipeline/cellstitch/%s.npy\" % test_filename, cellstitch) "
   ]
  },
  {
   "cell_type": "markdown",
   "id": "d62490f9",
   "metadata": {},
   "source": [
    "# Benchmark Results"
   ]
  },
  {
   "cell_type": "code",
   "execution_count": 27,
   "id": "a64822ec",
   "metadata": {},
   "outputs": [
    {
     "name": "stdout",
     "output_type": "stream",
     "text": [
      "Starting N_294_final_crop_ds2\n"
     ]
    },
    {
     "name": "stderr",
     "output_type": "stream",
     "text": [
      "/home/yining/anaconda3/envs/segmentation/lib/python3.8/site-packages/cellpose/metrics.py:205: RuntimeWarning: invalid value encountered in true_divide\n",
      "  iou = overlap / (n_pixels_pred + n_pixels_true - overlap)\n"
     ]
    },
    {
     "name": "stdout",
     "output_type": "stream",
     "text": [
      "['N_294_final_crop_ds2', 0.6335078534031413, 0.8808456934525408, 0.03949483352468427, 344, 5272, 3094]\n",
      "Starting N_435_final_crop_ds2\n",
      "['N_435_final_crop_ds2', 1.213047068538398, 0.9454125580383421, 0.018853102906520033, 72, 2608, 1139]\n",
      "Starting N_441_final_crop_ds2\n",
      "['N_441_final_crop_ds2', 1.8594306049822065, 1.7830965202251394, 0.01854895515379197, 79, 3135, 1045]\n",
      "Starting N_511_final_crop_ds2\n",
      "['N_511_final_crop_ds2', 0.9482596425211665, 0.9207325019255267, 0.03671849156467086, 111, 1960, 952]\n",
      "Starting N_522_final_crop_ds2\n",
      "['N_522_final_crop_ds2', 1.7296538821328344, 0.9402124851547904, 0.02863777089783282, 111, 2807, 958]\n",
      "Starting N_590_final_crop_ds2\n",
      "['N_590_final_crop_ds2', 0.7425213675213675, 0.5982522063115269, 0.05681350349938246, 138, 1493, 798]\n",
      "Starting N_593_final_crop_ds2\n",
      "['N_593_final_crop_ds2', 0.4071246819338422, 0.902965031031866, 0.02798152675903287, 103, 2109, 1469]\n"
     ]
    }
   ],
   "source": [
    "ap_threshold = 0.5\n",
    "\n",
    "# plantseg benchmark\n",
    "data = [] \n",
    "for filename in test_filenames:\n",
    "    print(\"Starting %s\" % filename)\n",
    "    labels = np.load('../data/ovules/labels/%s.npy' % filename)\n",
    "    true_num_cells = np.unique(labels).size - 1 \n",
    "    true_avg_vol = get_avg_vol(labels) \n",
    "    \n",
    "    masks = np.load(\"./results/ovules/pipeline/plantseg/%s.npy\" % filename) \n",
    "    \n",
    "    num_cells = np.unique(masks).size - 1\n",
    "    d_num_cells = abs(num_cells - true_num_cells) / true_num_cells\n",
    "\n",
    "    avg_vol = get_avg_vol(masks)\n",
    "    d_avg_vol = abs(true_avg_vol - avg_vol) / true_avg_vol\n",
    "\n",
    "    ap, tp, fp, fn = average_precision(labels, masks, ap_threshold)\n",
    "    \n",
    "    row = [ \n",
    "        filename, \n",
    "        d_num_cells, \n",
    "        d_avg_vol, \n",
    "        ap, \n",
    "        tp, \n",
    "        fp, \n",
    "        fn\n",
    "    ]\n",
    "    \n",
    "    print(row)\n",
    "    data.append(row)"
   ]
  },
  {
   "cell_type": "code",
   "execution_count": 28,
   "id": "fc5ac278",
   "metadata": {},
   "outputs": [],
   "source": [
    "plantseg_df = pd.DataFrame(data, columns=[\n",
    "    \"filename\",  \n",
    "    \"d_num_cells\", \n",
    "    \"d_avg_vol\", \n",
    "    \"ap\", \n",
    "    \"tp\", \n",
    "    \"fp\", \n",
    "    \"fn\"\n",
    "])"
   ]
  },
  {
   "cell_type": "code",
   "execution_count": 29,
   "id": "244019e8",
   "metadata": {},
   "outputs": [],
   "source": [
    "plantseg_df.to_csv(\"./results/ovules/pipeline/plantseg.csv\", index=False)"
   ]
  },
  {
   "cell_type": "code",
   "execution_count": 30,
   "id": "c10e0a2a",
   "metadata": {},
   "outputs": [
    {
     "name": "stdout",
     "output_type": "stream",
     "text": [
      "Starting N_294_final_crop_ds2\n",
      "['N_294_final_crop_ds2', 2.1896451425247236, 0.7671165168925141, 0.149561053471668, 1874, 9092, 1564]\n",
      "Starting N_435_final_crop_ds2\n",
      "['N_435_final_crop_ds2', 1.5672997522708505, 0.6233465940982975, 0.323935029114312, 1057, 2052, 154]\n",
      "Starting N_441_final_crop_ds2\n",
      "['N_441_final_crop_ds2', 3.9919928825622777, 0.7741039634307023, 0.16401659177324576, 949, 4662, 175]\n",
      "Starting N_511_final_crop_ds2\n",
      "['N_511_final_crop_ds2', 0.5569143932267169, 0.3720080296495624, 0.5116796440489433, 920, 735, 143]\n",
      "Starting N_522_final_crop_ds2\n",
      "['N_522_final_crop_ds2', 2.087932647333957, 0.6983797327368364, 0.23760974228263948, 839, 2462, 230]\n",
      "Starting N_590_final_crop_ds2\n",
      "['N_590_final_crop_ds2', 2.8632478632478633, 0.8232116399498604, 0.13714713964526606, 549, 3067, 387]\n",
      "Starting N_593_final_crop_ds2\n",
      "['N_593_final_crop_ds2', 3.9840966921119594, 0.8648220857908332, 0.08927744326076888, 771, 7064, 801]\n"
     ]
    }
   ],
   "source": [
    "# cellpose3d benchmark\n",
    "data = [] \n",
    "for filename in test_filenames:\n",
    "    print(\"Starting %s\" % filename)\n",
    "    labels = np.load('../data/ovules/labels/%s.npy' % filename)\n",
    "    true_num_cells = np.unique(labels).size - 1 \n",
    "    true_avg_vol = get_avg_vol(labels) \n",
    "    \n",
    "    masks = np.load(\"./results/ovules/pipeline/cellpose3d/%s.npy\" % filename) \n",
    "    \n",
    "    num_cells = np.unique(masks).size - 1\n",
    "    d_num_cells = abs(num_cells - true_num_cells) / true_num_cells\n",
    "\n",
    "    avg_vol = get_avg_vol(masks)\n",
    "    d_avg_vol = abs(true_avg_vol - avg_vol) / true_avg_vol\n",
    "\n",
    "    ap, tp, fp, fn = average_precision(labels, masks, ap_threshold)\n",
    "    \n",
    "    row = [ \n",
    "        filename, \n",
    "        d_num_cells, \n",
    "        d_avg_vol, \n",
    "        ap, \n",
    "        tp, \n",
    "        fp, \n",
    "        fn\n",
    "    ]\n",
    "    \n",
    "    print(row)\n",
    "    data.append(row)"
   ]
  },
  {
   "cell_type": "code",
   "execution_count": 31,
   "id": "489b35b1",
   "metadata": {},
   "outputs": [],
   "source": [
    "cp_df = pd.DataFrame(data, columns=[\n",
    "    \"filename\",  \n",
    "    \"d_num_cells\", \n",
    "    \"d_avg_vol\", \n",
    "    \"ap\", \n",
    "    \"tp\", \n",
    "    \"fp\", \n",
    "    \"fn\"\n",
    "])\n",
    "\n",
    "cp_df.to_csv(\"./results/ovules/pipeline/cellpose3d.csv\", index=False)"
   ]
  },
  {
   "cell_type": "code",
   "execution_count": 32,
   "id": "9e26046d",
   "metadata": {},
   "outputs": [
    {
     "name": "stdout",
     "output_type": "stream",
     "text": [
      "Starting N_294_final_crop_ds2\n"
     ]
    },
    {
     "name": "stderr",
     "output_type": "stream",
     "text": [
      "/home/yining/anaconda3/envs/segmentation/lib/python3.8/site-packages/cellpose/metrics.py:205: RuntimeWarning: invalid value encountered in true_divide\n",
      "  iou = overlap / (n_pixels_pred + n_pixels_true - overlap)\n"
     ]
    },
    {
     "name": "stdout",
     "output_type": "stream",
     "text": [
      "['N_294_final_crop_ds2', 0.060209424083769635, 0.05142940143641679, 0.23157894736842105, 1254, 1977, 2184]\n",
      "Starting N_435_final_crop_ds2\n",
      "['N_435_final_crop_ds2', 0.12303881090008258, 0.14001052168643457, 0.24866440019426905, 512, 848, 699]\n",
      "Starting N_441_final_crop_ds2\n",
      "['N_441_final_crop_ds2', 0.4653024911032028, 0.24038858441680125, 0.26298997265268914, 577, 1070, 547]\n",
      "Starting N_511_final_crop_ds2\n",
      "['N_511_final_crop_ds2', 0.08748824082784572, 0.05804676008885588, 0.32702349869451697, 501, 469, 562]\n",
      "Starting N_522_final_crop_ds2\n",
      "['N_522_final_crop_ds2', 0.29279700654817586, 0.2665386208489184, 0.26666666666666666, 516, 866, 553]\n",
      "Starting N_590_final_crop_ds2\n",
      "['N_590_final_crop_ds2', 0.24465811965811965, 0.0009902641088907341, 0.19752186588921283, 271, 436, 665]\n",
      "Starting N_593_final_crop_ds2\n",
      "['N_593_final_crop_ds2', 0.08078880407124682, 0.08844273153468665, 0.2175141242937853, 539, 906, 1033]\n"
     ]
    }
   ],
   "source": [
    "# cellstitch benchmark\n",
    "data = [] \n",
    "for filename in test_filenames:\n",
    "    print(\"Starting %s\" % filename)\n",
    "    labels = np.load('../data/ovules/labels/%s.npy' % filename)\n",
    "    true_num_cells = np.unique(labels).size - 1 \n",
    "    true_avg_vol = get_avg_vol(labels) \n",
    "    \n",
    "    masks = np.load(\"./results/ovules/pipeline/cellstitch/%s.npy\" % filename) \n",
    "    \n",
    "    num_cells = np.unique(masks).size - 1\n",
    "    d_num_cells = abs(num_cells - true_num_cells) / true_num_cells\n",
    "\n",
    "    avg_vol = get_avg_vol(masks)\n",
    "    d_avg_vol = abs(true_avg_vol - avg_vol) / true_avg_vol\n",
    "\n",
    "    ap, tp, fp, fn = average_precision(labels, masks, ap_threshold)\n",
    "    \n",
    "    row = [ \n",
    "        filename, \n",
    "        d_num_cells, \n",
    "        d_avg_vol, \n",
    "        ap, \n",
    "        tp, \n",
    "        fp, \n",
    "        fn\n",
    "    ]\n",
    "    \n",
    "    print(row)\n",
    "    data.append(row)"
   ]
  },
  {
   "cell_type": "code",
   "execution_count": 33,
   "id": "96e96854",
   "metadata": {},
   "outputs": [],
   "source": [
    "ct_df = pd.DataFrame(data, columns=[\n",
    "    \"filename\",  \n",
    "    \"d_num_cells\", \n",
    "    \"d_avg_vol\", \n",
    "    \"ap\", \n",
    "    \"tp\", \n",
    "    \"fp\", \n",
    "    \"fn\"\n",
    "])\n",
    "\n",
    "ct_df.to_csv(\"./results/ovules/pipeline/cellstitch.csv\", index=False)"
   ]
  },
  {
   "cell_type": "markdown",
   "id": "ae65f548",
   "metadata": {},
   "source": [
    "### Analyze Results"
   ]
  },
  {
   "cell_type": "code",
   "execution_count": 37,
   "id": "931da08a",
   "metadata": {},
   "outputs": [
    {
     "name": "stderr",
     "output_type": "stream",
     "text": [
      "/tmp/ipykernel_312700/3213664172.py:1: FutureWarning: Dropping of nuisance columns in DataFrame reductions (with 'numeric_only=None') is deprecated; in a future version this will raise TypeError.  Select only valid columns before calling the reduction.\n",
      "  cp_df.mean()\n"
     ]
    },
    {
     "data": {
      "text/plain": [
       "d_num_cells       2.463018\n",
       "d_avg_vol         0.703284\n",
       "ap                0.230461\n",
       "tp              994.142857\n",
       "fp             4162.000000\n",
       "fn              493.428571\n",
       "dtype: float64"
      ]
     },
     "execution_count": 37,
     "metadata": {},
     "output_type": "execute_result"
    }
   ],
   "source": [
    "cp_df.mean()"
   ]
  },
  {
   "cell_type": "code",
   "execution_count": 38,
   "id": "3a3bb556",
   "metadata": {},
   "outputs": [
    {
     "name": "stderr",
     "output_type": "stream",
     "text": [
      "/tmp/ipykernel_312700/3019119637.py:1: FutureWarning: Dropping of nuisance columns in DataFrame reductions (with 'numeric_only=None') is deprecated; in a future version this will raise TypeError.  Select only valid columns before calling the reduction.\n",
      "  cp_df.std()\n"
     ]
    },
    {
     "data": {
      "text/plain": [
       "d_num_cells       1.255826\n",
       "d_avg_vol         0.166195\n",
       "ap                0.145758\n",
       "tp              419.850937\n",
       "fp             2979.428301\n",
       "fn              526.126365\n",
       "dtype: float64"
      ]
     },
     "execution_count": 38,
     "metadata": {},
     "output_type": "execute_result"
    }
   ],
   "source": [
    "cp_df.std()"
   ]
  },
  {
   "cell_type": "code",
   "execution_count": null,
   "id": "3708cf45",
   "metadata": {},
   "outputs": [],
   "source": []
  }
 ],
 "metadata": {
  "kernelspec": {
   "display_name": "segmentation-aeolus",
   "language": "python",
   "name": "segmentation-aeolus"
  },
  "language_info": {
   "codemirror_mode": {
    "name": "ipython",
    "version": 3
   },
   "file_extension": ".py",
   "mimetype": "text/x-python",
   "name": "python",
   "nbconvert_exporter": "python",
   "pygments_lexer": "ipython3",
   "version": "3.8.13"
  }
 },
 "nbformat": 4,
 "nbformat_minor": 5
}
