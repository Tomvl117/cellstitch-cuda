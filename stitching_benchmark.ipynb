{
 "cells": [
  {
   "cell_type": "code",
   "execution_count": 1,
   "id": "2cf6863b",
   "metadata": {},
   "outputs": [],
   "source": [
    "import numpy as np\n",
    "import os\n",
    "from cellpose import models\n",
    "from cellpose import utils as cp_utils\n",
    "from cellstitch.pipeline import *\n",
    "from cellstitch.evaluation import *\n",
    "from cellstitch.utils import *\n",
    "import pandas as pd\n",
    "import seaborn as sns\n",
    "import matplotlib.pyplot as plt"
   ]
  },
  {
   "cell_type": "markdown",
   "id": "0bea4a10",
   "metadata": {},
   "source": [
    "# Benchmark CellStitch Stitching\n",
    "Generate unstitched 2D predictions:"
   ]
  },
  {
   "cell_type": "code",
   "execution_count": 2,
   "id": "1b5e01d8",
   "metadata": {},
   "outputs": [],
   "source": [
    "cp_model_dir = './cellpose/train/models/cellpose_residual_on_style_on_concatenation_off_train_2022_08_30_13_18_51.543479'\n",
    "flow_threshold = 1\n",
    "model = models.Cellpose(gpu=True, model_type='cyto2')"
   ]
  },
  {
   "cell_type": "code",
   "execution_count": 3,
   "id": "579ac97e",
   "metadata": {},
   "outputs": [],
   "source": [
    "filenames = get_filenames(\"../data/ovules/raw/\")"
   ]
  },
  {
   "cell_type": "code",
   "execution_count": null,
   "id": "918e7b08",
   "metadata": {},
   "outputs": [],
   "source": [
    "for filename in filenames: \n",
    "    img = np.load('../data/ovules/raw/%s' % filename)\n",
    "    frames = list(img)\n",
    "    unstitched, _, _, _ = model.eval(frames, flow_threshold=flow_threshold) \n",
    "    np.save('./results/unstitched/%s' % filename, np.array(unstitched))"
   ]
  },
  {
   "cell_type": "markdown",
   "id": "aee5da8b",
   "metadata": {},
   "source": [
    "Get the benchmark results for cellpose: "
   ]
  },
  {
   "cell_type": "code",
   "execution_count": 4,
   "id": "9579c488",
   "metadata": {},
   "outputs": [],
   "source": [
    "thresholds = np.arange(0.1, 1, 0.1)\n",
    "ap_threshold = 0.5"
   ]
  },
  {
   "cell_type": "code",
   "execution_count": 5,
   "id": "6b6ab85c",
   "metadata": {},
   "outputs": [],
   "source": [
    "# cellpose benchmark\n",
    "data = [] \n",
    "for filename in filenames:\n",
    "    labels = np.load('../data/ovules/labels/%s' % filename) \n",
    "    true_num_cells = np.unique(labels).size - 1 \n",
    "    true_avg_vol = get_avg_vol(labels) \n",
    "    \n",
    "    for threshold in thresholds:\n",
    "        unstitched = np.load('./results/ovules/stitching/unstitched/%s' % filename) \n",
    "        cp_stitched =  np.asarray(cp_utils.stitch3D(unstitched, stitch_threshold=threshold)) # compute stitched mask\n",
    "        \n",
    "        num_cells = np.unique(cp_stitched).size - 1\n",
    "        d_num_cells = abs(num_cells - true_num_cells) / true_num_cells \n",
    "        \n",
    "        avg_vol = get_avg_vol(cp_stitched)\n",
    "        d_avg_vol = abs(true_avg_vol - avg_vol) / true_avg_vol\n",
    "        \n",
    "        ap, tp, fp, fn = average_precision(labels, cp_stitched, ap_threshold)\n",
    "        \n",
    "        row = [\n",
    "            filename, \n",
    "            threshold, \n",
    "            d_num_cells, \n",
    "            d_avg_vol, \n",
    "            ap, \n",
    "            tp, \n",
    "            fp, \n",
    "            fn\n",
    "        ]\n",
    "        data.append(row)"
   ]
  },
  {
   "cell_type": "code",
   "execution_count": 6,
   "id": "a07a6064",
   "metadata": {},
   "outputs": [],
   "source": [
    "cp_df = pd.DataFrame(data, columns=[\n",
    "    \"filename\", \n",
    "    \"threshold\", \n",
    "    \"d_num_cells\", \n",
    "    \"d_avg_vol\", \n",
    "    \"ap\", \n",
    "    \"tp\", \n",
    "    \"fp\", \n",
    "    \"rn\"\n",
    "])"
   ]
  },
  {
   "cell_type": "code",
   "execution_count": 7,
   "id": "4e0a9dc3",
   "metadata": {},
   "outputs": [],
   "source": [
    "cp_df.to_csv(\"cp_stitching_benchmark.csv\", index=False)"
   ]
  },
  {
   "cell_type": "code",
   "execution_count": 8,
   "id": "08b80d03",
   "metadata": {},
   "outputs": [
    {
     "name": "stdout",
     "output_type": "stream",
     "text": [
      "Starting N_422_ds2x.npy\n"
     ]
    },
    {
     "name": "stderr",
     "output_type": "stream",
     "text": [
      "/home/yining/anaconda3/envs/segmentation/lib/python3.8/site-packages/cellpose/metrics.py:205: RuntimeWarning: invalid value encountered in true_divide\n",
      "  iou = overlap / (n_pixels_pred + n_pixels_true - overlap)\n"
     ]
    },
    {
     "name": "stdout",
     "output_type": "stream",
     "text": [
      "Starting N_457_ds2x.npy\n",
      "Starting N_590_final_crop_ds2.npy\n",
      "Starting N_405_B_ds2x.npy\n",
      "Starting N_522_final_crop_ds2.npy\n",
      "Starting N_464_ds2x.npy\n",
      "Starting N_534_ds2x.npy\n",
      "Starting N_454_ds2x.npy\n",
      "Starting N_445_ds2x.npy\n",
      "Starting N_517_ds2x.npy\n",
      "Starting N_509_ds2x.npy\n",
      "Starting N_425_ds2x.npy\n",
      "Starting N_536_ds2x.npy\n",
      "Starting N_435_final_crop_ds2.npy\n",
      "Starting N_487_ds2x.npy\n",
      "Starting N_535_ds2x.npy\n",
      "Starting N_416_ds2x.npy\n",
      "Starting N_511_final_crop_ds2.npy\n",
      "Starting N_512_ds2x.npy\n",
      "Starting N_420_ds2x.npy\n",
      "Starting N_294_final_crop_ds2.npy\n",
      "Starting N_405_A_ds2x.npy\n",
      "Starting N_428_ds2x.npy\n",
      "Starting N_440_ds2x.npy\n",
      "Starting N_449_ds2x.npy\n",
      "Starting N_404_ds2x.npy\n",
      "Starting N_458_ds2x.npy\n",
      "Starting N_450_ds2x.npy\n",
      "Starting N_441_final_crop_ds2.npy\n",
      "Starting N_451_ds2x.npy\n",
      "Starting N_593_final_crop_ds2.npy\n"
     ]
    }
   ],
   "source": [
    "# cellstitch benchmark\n",
    "data = [] \n",
    "for filename in filenames:\n",
    "    print(\"Starting %s\" % filename)\n",
    "    labels = np.load('../data/ovules/labels/%s' % filename)\n",
    "    true_num_cells = np.unique(labels).size - 1 \n",
    "    true_avg_vol = get_avg_vol(labels) \n",
    "    \n",
    "    ct_stitched = np.load('./results/ovules/stitching/ct_stitched/%s' % filename) \n",
    "    \n",
    "    num_cells = np.unique(ct_stitched).size - 1\n",
    "    d_num_cells = abs(num_cells - true_num_cells) / true_num_cells\n",
    "\n",
    "    avg_vol = get_avg_vol(ct_stitched)\n",
    "    d_avg_vol = abs(true_avg_vol - avg_vol) / true_avg_vol\n",
    "\n",
    "    ap, tp, fp, fn = average_precision(labels, ct_stitched, ap_threshold)\n",
    "    \n",
    "    row = [ \n",
    "        filename, \n",
    "        d_num_cells, \n",
    "        d_avg_vol, \n",
    "        ap, \n",
    "        tp, \n",
    "        fp, \n",
    "        fn\n",
    "    ]\n",
    "    \n",
    "    data.append(row)"
   ]
  },
  {
   "cell_type": "code",
   "execution_count": 9,
   "id": "e6c06fe9",
   "metadata": {},
   "outputs": [],
   "source": [
    "ct_df = pd.DataFrame(data, columns=[\n",
    "    \"filename\", \n",
    "    \"d_num_cells\", \n",
    "    \"d_avg_vol\", \n",
    "    \"ap\", \n",
    "    \"tp\", \n",
    "    \"fp\", \n",
    "    \"rn\"\n",
    "])"
   ]
  },
  {
   "cell_type": "code",
   "execution_count": 10,
   "id": "f375ed08",
   "metadata": {},
   "outputs": [],
   "source": [
    "ct_df.to_csv(\"ct_stitching_benchmark.csv\", index=False)"
   ]
  },
  {
   "cell_type": "markdown",
   "id": "6d730a3a",
   "metadata": {},
   "source": [
    "# Analyze Results"
   ]
  },
  {
   "cell_type": "markdown",
   "id": "50f1b219",
   "metadata": {},
   "source": [
    "Number of cells and average volume."
   ]
  },
  {
   "cell_type": "code",
   "execution_count": 26,
   "id": "5f140555",
   "metadata": {},
   "outputs": [],
   "source": [
    "cp_df = pd.read_csv(\"cp_stitching_benchmark.csv\")\n",
    "ct_df = pd.read_csv(\"ct_stitching_benchmark.csv\")"
   ]
  },
  {
   "cell_type": "code",
   "execution_count": 27,
   "id": "18562d16",
   "metadata": {},
   "outputs": [],
   "source": [
    "col_name = \"d_avg_vol\" # choose between d_num_cells and d_vol "
   ]
  },
  {
   "cell_type": "code",
   "execution_count": 28,
   "id": "e8030db8",
   "metadata": {},
   "outputs": [],
   "source": [
    "cp_best_df = cp_df.groupby(['filename']).min()[col_name]\n",
    "cp_best_df = cp_best_df.reset_index()\n",
    "cp_best_df = cp_best_df.drop(columns=['filename'])\n",
    "cp_all_df = cp_df[col_name]\n",
    "cp_all_df = cp_all_df.reset_index()\n",
    "cp_all_df = cp_all_df.drop(columns=['index'])\n",
    "ct_df = ct_df[col_name]\n",
    "ct_df = ct_df.reset_index()\n",
    "ct_df = ct_df.drop(columns=['index'])\n",
    "cp_best_df['method'] = 'cellpose_best'\n",
    "cp_all_df['method'] = 'cellpose_all'\n",
    "ct_df['method'] = 'cellstitch'\n",
    "df = pd.concat([cp_best_df, cp_all_df, ct_df])"
   ]
  },
  {
   "cell_type": "code",
   "execution_count": 29,
   "id": "572738d9",
   "metadata": {},
   "outputs": [
    {
     "data": {
      "image/png": "[encoded data removed]",
      "text/plain": [
       "<Figure size 432x288 with 1 Axes>"
      ]
     },
     "metadata": {
      "needs_background": "light"
     },
     "output_type": "display_data"
    }
   ],
   "source": [
    "ax = sns.boxplot(data=df, x=\"method\", y=col_name, color=\"lightcoral\")\n",
    "plt.title(\"deviation of the average cell volumes\")\n",
    "ax.set(xlabel=None)\n",
    "plt.savefig('./figures/%s.png' % col_name)"
   ]
  },
  {
   "cell_type": "markdown",
   "id": "9b96d0e2",
   "metadata": {},
   "source": [
    "Average precision. "
   ]
  },
  {
   "cell_type": "code",
   "execution_count": 11,
   "id": "86fe8e56",
   "metadata": {},
   "outputs": [],
   "source": [
    "cp_df = pd.read_csv(\"cp_stitching_benchmark.csv\")\n",
    "ct_df = pd.read_csv(\"ct_stitching_benchmark.csv\")"
   ]
  },
  {
   "cell_type": "code",
   "execution_count": 12,
   "id": "9970a92b",
   "metadata": {},
   "outputs": [],
   "source": [
    "col_name = 'ap'"
   ]
  },
  {
   "cell_type": "code",
   "execution_count": 13,
   "id": "ce35ae52",
   "metadata": {},
   "outputs": [],
   "source": [
    "cp_best_df = cp_df.groupby(['filename']).max()[col_name]\n",
    "cp_best_df = cp_best_df.reset_index()\n",
    "cp_best_df = cp_best_df.drop(columns=['filename'])\n",
    "cp_all_df = cp_df[col_name]\n",
    "cp_all_df = cp_all_df.reset_index()\n",
    "cp_all_df = cp_all_df.drop(columns=['index'])\n",
    "ct_df = ct_df[col_name]\n",
    "ct_df = ct_df.reset_index()\n",
    "ct_df = ct_df.drop(columns=['index'])\n",
    "cp_best_df['method'] = 'cellpose_best'\n",
    "cp_all_df['method'] = 'cellpose_all'\n",
    "ct_df['method'] = 'cellstitch'\n",
    "df = pd.concat([cp_best_df, cp_all_df, ct_df])"
   ]
  },
  {
   "cell_type": "code",
   "execution_count": 14,
   "id": "5a5e34bb",
   "metadata": {},
   "outputs": [
    {
     "data": {
      "image/png": "[encoded data removed]",
      "text/plain": [
       "<Figure size 432x288 with 1 Axes>"
      ]
     },
     "metadata": {
      "needs_background": "light"
     },
     "output_type": "display_data"
    }
   ],
   "source": [
    "ax = sns.boxplot(data=df, x=\"method\", y=col_name, color=\"seagreen\")\n",
    "ax.set(xlabel=None)\n",
    "ax.set(ylabel='average precision')\n",
    "plt.savefig('./figures/%s.png' % col_name)"
   ]
  },
  {
   "cell_type": "code",
   "execution_count": null,
   "id": "f41b3634",
   "metadata": {},
   "outputs": [],
   "source": []
  }
 ],
 "metadata": {
  "kernelspec": {
   "display_name": "segmentation-aeolus",
   "language": "python",
   "name": "segmentation-aeolus"
  },
  "language_info": {
   "codemirror_mode": {
    "name": "ipython",
    "version": 3
   },
   "file_extension": ".py",
   "mimetype": "text/x-python",
   "name": "python",
   "nbconvert_exporter": "python",
   "pygments_lexer": "ipython3",
   "version": "3.8.13"
  }
 },
 "nbformat": 4,
 "nbformat_minor": 5
}
