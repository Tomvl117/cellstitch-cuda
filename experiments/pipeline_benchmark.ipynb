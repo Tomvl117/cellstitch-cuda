{
 "cells": [
  {
   "cell_type": "code",
   "execution_count": 1,
   "id": "a4249c11",
   "metadata": {},
   "outputs": [],
   "source": [
    "import h5py\n",
    "import numpy as np\n",
    "import imageio\n",
    "from cellpose import models\n",
    "from cellstitch.pipeline import *\n",
    "from cellstitch.evaluation import *\n",
    "import pandas as pd\n",
    "\n",
    "test_filenames = [\"N_294_final_crop_ds2\", \n",
    "                 \"N_435_final_crop_ds2\",\n",
    "                 \"N_441_final_crop_ds2\",\n",
    "                 \"N_511_final_crop_ds2\",\n",
    "                 \"N_522_final_crop_ds2\",\n",
    "                 \"N_590_final_crop_ds2\",\n",
    "                 \"N_593_final_crop_ds2\"]"
   ]
  },
  {
   "cell_type": "markdown",
   "id": "2e532f7a",
   "metadata": {},
   "source": [
    "# Pipeline Benchmark\n",
    "\n",
    "Comparision between cellstitch (2D), 3Dcellpose (2.5D), plantseg (3D); using the same training set. \n",
    "### PlantSeg\n",
    "- First, created a plantseg virtual enviroment: \n",
    "`conda create -n plant-seg -c pytorch -c conda-forge -c lcerrone -c awolny pytorch=1.9 pytorch-3dunet=1.3.7 plantseg` \n",
    "- activate the environment: `conda activate plant-seg` \n",
    "- download the ovules test dataset: https://osf.io/uzq3w/ to `../data/ovules/plantseg_test/` \n",
    "- set the `path` in `plantseg.yaml` to `../data/ovules/plantseg_test/` \n",
    "- perform segmentation with the `confocal_unet_bce_dice_ds1x` by running `plantseg --config plantseg.yaml`\n",
    "- the predictions are saved to `../data/ovules/plantseg_test/PreProcessing/confocal_unet_bce_dice_ds1x/\n",
    "`"
   ]
  },
  {
   "cell_type": "code",
   "execution_count": null,
   "id": "6f9fae7a",
   "metadata": {},
   "outputs": [],
   "source": [
    "plantseg_results_folder = \"../data/ovules/plantseg_test/PreProcessing/confocal_unet_bce_dice_ds1x/MultiCut/\""
   ]
  },
  {
   "cell_type": "code",
   "execution_count": null,
   "id": "48b1bbfd",
   "metadata": {},
   "outputs": [],
   "source": [
    "for test_filename in test_filenames: \n",
    "    print(\"Starting %s\" % test_filename) \n",
    "    \n",
    "    with h5py.File(\"%s/%s_predictions_multicut.h5\" % (plantseg_results_folder, test_filename), \"r\") as f:\n",
    "        plantseg = np.array(list(f['segmentation'])) \n",
    "        \n",
    "    plantseg[np.where(plantseg == 1)] = 0 # plantseg use 1 as labels\n",
    "    np.save(\"./results/ovules/pipeline/plantseg/%s.npy\" % test_filename, plantseg)"
   ]
  },
  {
   "cell_type": "markdown",
   "id": "5f94e852",
   "metadata": {},
   "source": [
    "### Train cellpose model from scratch\n",
    "First, need to prepare training data for cellpose."
   ]
  },
  {
   "cell_type": "code",
   "execution_count": null,
   "id": "09a23e7d",
   "metadata": {},
   "outputs": [],
   "source": [
    "train_filenames = [\"N_404_ds2x.npy\", \n",
    "                  \"N_405_A_ds2x.npy\", \n",
    "                  \"N_405_B_ds2x.npy\", \n",
    "                  \"N_416_ds2x.npy\",\n",
    "                  \"N_422_ds2x.npy\",\n",
    "                  \"N_425_ds2x.npy\",\n",
    "                  \"N_428_ds2x.npy\",\n",
    "                  \"N_440_ds2x.npy\",\n",
    "                  \"N_445_ds2x.npy\",\n",
    "                  \"N_449_ds2x.npy\",\n",
    "                  \"N_450_ds2x.npy\", \n",
    "                  \"N_451_ds2x.npy\",\n",
    "                  \"N_454_ds2x.npy\",\n",
    "                  \"N_457_ds2x.npy\",\n",
    "                  \"N_458_ds2x.npy\",\n",
    "                  \"N_487_ds2x.npy\",\n",
    "                  \"N_509_ds2x.npy\",\n",
    "                  \"N_512_ds2x.npy\",\n",
    "                   \"N_517_ds2x.npy\",\n",
    "                  \"N_534_ds2x.npy\",\n",
    "                  \"N_535_ds2x.npy\",\n",
    "                  \"N_536_ds2x.npy\"]\n",
    "\n",
    "ovules_folder = \"../data/ovules\"\n",
    "cellpose_folder = \"../data/ovules/cellpose_train\""
   ]
  },
  {
   "cell_type": "code",
   "execution_count": null,
   "id": "f92027aa",
   "metadata": {},
   "outputs": [],
   "source": [
    "for train_filename in train_filenames: \n",
    "    img = np.load(\"%s/raw/%s\" % (ovules_folder, train_filename))\n",
    "    labels = np.load(\"%s/labels/%s\" % (ovules_folder, train_filename)) \n",
    "    depth = img.shape[0] \n",
    "    \n",
    "    for i in range(depth): \n",
    "        imageio.imwrite(\"%s/%s_%s.tif\" % (cellpose_folder, train_filename, i), img[i])\n",
    "        imageio.imwrite(\"%s/%s_%s_masks.tif\" % (cellpose_folder, train_filename, i), labels[i])"
   ]
  },
  {
   "cell_type": "markdown",
   "id": "1c5e2a53",
   "metadata": {},
   "source": [
    "`python -m cellpose --train --dir ../data/ovules/cellpose_train --pretrained_model None --n_epochs 100  --verbose` "
   ]
  },
  {
   "cell_type": "markdown",
   "id": "239f0c0c",
   "metadata": {},
   "source": [
    "### Generate cellpose3d results"
   ]
  },
  {
   "cell_type": "code",
   "execution_count": null,
   "id": "c125413b",
   "metadata": {},
   "outputs": [],
   "source": [
    "model_dir = '../data/ovules/cellpose_train/models/cellpose_residual_on_style_on_concatenation_off_cellpose_train_2022_09_19_14_23_42.578556'"
   ]
  },
  {
   "cell_type": "code",
   "execution_count": null,
   "id": "a266c490",
   "metadata": {},
   "outputs": [],
   "source": [
    "ovules_folder = \"../data/ovules\""
   ]
  },
  {
   "cell_type": "code",
   "execution_count": null,
   "id": "03435142",
   "metadata": {},
   "outputs": [],
   "source": [
    "flow_threshold = 1\n",
    "model = models.CellposeModel(gpu=True, pretrained_model=model_dir)"
   ]
  },
  {
   "cell_type": "code",
   "execution_count": null,
   "id": "ed7d3227",
   "metadata": {},
   "outputs": [],
   "source": [
    "for test_filename in test_filenames: \n",
    "    print(\"Starting %s\" % test_filename)\n",
    "    img = np.load(\"%s/raw/%s.npy\" % (ovules_folder, test_filename)) \n",
    "    masks, _, _ = model.eval(img, do_3D=True, flow_threshold=flow_threshold, channels = [0,0]) \n",
    "    np.save(\"./results/ovules/pipeline/cellpose3d/%s.npy\" % test_filename, masks) "
   ]
  },
  {
   "cell_type": "markdown",
   "id": "c018e5e1",
   "metadata": {},
   "source": [
    "### Generate cellstitch results"
   ]
  },
  {
   "cell_type": "code",
   "execution_count": null,
   "id": "0076d506",
   "metadata": {},
   "outputs": [],
   "source": [
    "for test_filename in test_filenames: \n",
    "    print(\"Starting %s\" % test_filename)\n",
    "    img = np.load(\"%s/raw/%s.npy\" % (ovules_folder, test_filename)) \n",
    "    \n",
    "    masks, _, _ = model.eval(list(img), flow_threshold=flow_threshold, channels = [0,0]) \n",
    "    cellstitch = np.array(masks)\n",
    "    full_stitch(cellstitch) \n",
    "    np.save(\"./results/ovules/pipeline/cellstitch/%s.npy\" % test_filename, cellstitch) "
   ]
  },
  {
   "cell_type": "markdown",
   "id": "694415ee",
   "metadata": {},
   "source": [
    "# Ovules with High Anistropy "
   ]
  },
  {
   "cell_type": "markdown",
   "id": "67670556",
   "metadata": {},
   "source": [
    "### PlantSeg\n",
    "- activate the environment: `conda activate plant-seg` \n",
    "- make sure to set the `path` in plantseg.yaml to `../data/ovules_subsampled/plantseg_test/`\n",
    "- perform segmentation with the `confocal_unet_bce_dice_ds1x` by running `plantseg --config plantseg.yaml`"
   ]
  },
  {
   "cell_type": "code",
   "execution_count": null,
   "id": "fe73fa47",
   "metadata": {},
   "outputs": [],
   "source": [
    "plantseg_results_folder = \"../data/ovules_subsampled/plantseg_test/PreProcessing/confocal_unet_bce_dice_ds1x/MultiCut/\""
   ]
  },
  {
   "cell_type": "code",
   "execution_count": null,
   "id": "6ed7b382",
   "metadata": {},
   "outputs": [],
   "source": [
    "for test_filename in test_filenames: \n",
    "    print(\"Starting %s\" % test_filename) \n",
    "    \n",
    "    with h5py.File(\"%s/%s_predictions_multicut.h5\" % (plantseg_results_folder, test_filename), \"r\") as f:\n",
    "        plantseg = np.array(list(f['segmentation'])) \n",
    "        \n",
    "    plantseg[np.where(plantseg == 1)] = 0 # plantseg use 1 as labels\n",
    "    np.save(\"./results/ovules_subsampled/pipeline/plantseg/%s.npy\" % test_filename, plantseg)"
   ]
  },
  {
   "cell_type": "markdown",
   "id": "2b3755ac",
   "metadata": {},
   "source": [
    "### Generate cellpose3d results"
   ]
  },
  {
   "cell_type": "code",
   "execution_count": null,
   "id": "77089da2",
   "metadata": {},
   "outputs": [],
   "source": [
    "model_dir = '../data/ovules/cellpose_train/models/cellpose_residual_on_style_on_concatenation_off_cellpose_train_2022_09_19_14_23_42.578556'"
   ]
  },
  {
   "cell_type": "code",
   "execution_count": null,
   "id": "c7d369f2",
   "metadata": {},
   "outputs": [],
   "source": [
    "subsampled_ovules_folder = \"../data/ovules_subsampled/\""
   ]
  },
  {
   "cell_type": "code",
   "execution_count": null,
   "id": "dd6dc3f8",
   "metadata": {},
   "outputs": [],
   "source": [
    "flow_threshold = 1\n",
    "model = models.CellposeModel(gpu=True, pretrained_model=model_dir)"
   ]
  },
  {
   "cell_type": "code",
   "execution_count": null,
   "id": "f1e2b527",
   "metadata": {},
   "outputs": [],
   "source": [
    "for test_filename in test_filenames: \n",
    "    print(\"Starting %s\" % test_filename)\n",
    "    img = np.load(\"%s/raw/%s.npy\" % (subsampled_ovules_folder, test_filename)) \n",
    "    masks, _, _ = model.eval(img, do_3D=True, flow_threshold=flow_threshold, channels = [0,0]) \n",
    "    np.save(\"./results/ovules_subsampled/pipeline/cellpose3d/%s.npy\" % test_filename, masks) "
   ]
  },
  {
   "cell_type": "markdown",
   "id": "0693d189",
   "metadata": {},
   "source": [
    "### Generate cellstitch results"
   ]
  },
  {
   "cell_type": "code",
   "execution_count": null,
   "id": "e7e6c5db",
   "metadata": {},
   "outputs": [],
   "source": [
    "for test_filename in test_filenames: \n",
    "    print(\"Starting %s\" % test_filename)\n",
    "    img = np.load(\"%s/raw/%s.npy\" % (subsampled_ovules_folder, test_filename)) \n",
    "    \n",
    "    masks, _, _ = model.eval(list(img), flow_threshold=flow_threshold, channels = [0,0]) \n",
    "    cellstitch = np.array(masks)\n",
    "    full_stitch(cellstitch) \n",
    "    np.save(\"./results/ovules_subsampled/pipeline/cellstitch/%s.npy\" % test_filename, cellstitch) "
   ]
  },
  {
   "cell_type": "markdown",
   "id": "65a4c3c4",
   "metadata": {},
   "source": [
    "# Benchmark Results"
   ]
  },
  {
   "cell_type": "code",
   "execution_count": 16,
   "id": "7f75cda2",
   "metadata": {},
   "outputs": [],
   "source": [
    "dataset = 'ovules_subsampled' # ovules or ovules_subsampled\n",
    "\n",
    "ap_threshold = 0.5"
   ]
  },
  {
   "cell_type": "code",
   "execution_count": 17,
   "id": "c1e44cfb",
   "metadata": {},
   "outputs": [
    {
     "name": "stdout",
     "output_type": "stream",
     "text": [
      "Starting N_294_final_crop_ds2\n"
     ]
    },
    {
     "name": "stderr",
     "output_type": "stream",
     "text": [
      "/home/yining/anaconda3/envs/segmentation/lib/python3.8/site-packages/cellpose/metrics.py:205: RuntimeWarning: invalid value encountered in true_divide\n",
      "  iou = overlap / (n_pixels_pred + n_pixels_true - overlap)\n"
     ]
    },
    {
     "name": "stdout",
     "output_type": "stream",
     "text": [
      "Starting N_435_final_crop_ds2\n",
      "Starting N_441_final_crop_ds2\n",
      "Starting N_511_final_crop_ds2\n",
      "Starting N_522_final_crop_ds2\n",
      "Starting N_590_final_crop_ds2\n",
      "Starting N_593_final_crop_ds2\n"
     ]
    }
   ],
   "source": [
    "# plantseg benchmark\n",
    "data = [] \n",
    "for filename in test_filenames:\n",
    "    print(\"Starting %s\" % filename)\n",
    "    labels = np.load('../data/%s/labels/%s.npy' % (dataset, filename)) \n",
    "    true_num_cells = np.unique(labels).size - 1 \n",
    "    true_avg_vol = get_avg_vol(labels) \n",
    "    \n",
    "    masks = np.load(\"./results/%s/pipeline/plantseg/%s.npy\" % (dataset, filename)) \n",
    "    \n",
    "    num_cells = np.unique(masks).size - 1\n",
    "    d_num_cells = abs(num_cells - true_num_cells) / true_num_cells\n",
    "\n",
    "    avg_vol = get_avg_vol(masks)\n",
    "    d_avg_vol = abs(true_avg_vol - avg_vol) / true_avg_vol\n",
    "\n",
    "    ap, tp, fp, fn = average_precision(labels, masks, ap_threshold)\n",
    "    \n",
    "    row = [ \n",
    "        filename, \n",
    "        d_num_cells, \n",
    "        d_avg_vol, \n",
    "        ap, \n",
    "        tp, \n",
    "        fp, \n",
    "        fn\n",
    "    ]\n",
    "    \n",
    "    data.append(row)\n",
    "\n",
    "plantseg_df = pd.DataFrame(data, columns=[\n",
    "    \"filename\",  \n",
    "    \"d_num_cells\", \n",
    "    \"d_avg_vol\", \n",
    "    \"ap\", \n",
    "    \"tp\", \n",
    "    \"fp\", \n",
    "    \"fn\"\n",
    "])\n",
    "plantseg_df.to_csv(\"./results/%s/pipeline/plantseg.csv\" % dataset, index=False)"
   ]
  },
  {
   "cell_type": "code",
   "execution_count": 18,
   "id": "58539ffe",
   "metadata": {},
   "outputs": [
    {
     "name": "stdout",
     "output_type": "stream",
     "text": [
      "Starting N_294_final_crop_ds2\n",
      "Starting N_435_final_crop_ds2\n",
      "Starting N_441_final_crop_ds2\n",
      "Starting N_511_final_crop_ds2\n",
      "Starting N_522_final_crop_ds2\n",
      "Starting N_590_final_crop_ds2\n",
      "Starting N_593_final_crop_ds2\n"
     ]
    }
   ],
   "source": [
    "# cellpose3d benchmark\n",
    "data = [] \n",
    "for filename in test_filenames:\n",
    "    print(\"Starting %s\" % filename)\n",
    "    labels = np.load('../data/%s/labels/%s.npy' % (dataset, filename))\n",
    "    true_num_cells = np.unique(labels).size - 1 \n",
    "    true_avg_vol = get_avg_vol(labels) \n",
    "    \n",
    "    masks = np.load(\"./results/%s/pipeline/cellpose3d/%s.npy\" % (dataset, filename)) \n",
    "    \n",
    "    num_cells = np.unique(masks).size - 1\n",
    "    d_num_cells = abs(num_cells - true_num_cells) / true_num_cells\n",
    "\n",
    "    avg_vol = get_avg_vol(masks)\n",
    "    d_avg_vol = abs(true_avg_vol - avg_vol) / true_avg_vol\n",
    "\n",
    "    ap, tp, fp, fn = average_precision(labels, masks, ap_threshold)\n",
    "    \n",
    "    row = [ \n",
    "        filename, \n",
    "        d_num_cells, \n",
    "        d_avg_vol, \n",
    "        ap, \n",
    "        tp, \n",
    "        fp, \n",
    "        fn\n",
    "    ]\n",
    "    \n",
    "    data.append(row)\n",
    "\n",
    "cp_df = pd.DataFrame(data, columns=[\n",
    "    \"filename\",  \n",
    "    \"d_num_cells\", \n",
    "    \"d_avg_vol\", \n",
    "    \"ap\", \n",
    "    \"tp\", \n",
    "    \"fp\", \n",
    "    \"fn\"\n",
    "])\n",
    "\n",
    "cp_df.to_csv(\"./results/%s/pipeline/cellpose3d.csv\" % dataset, index=False) "
   ]
  },
  {
   "cell_type": "code",
   "execution_count": 19,
   "id": "aa1b501d",
   "metadata": {},
   "outputs": [
    {
     "name": "stdout",
     "output_type": "stream",
     "text": [
      "Starting N_294_final_crop_ds2\n"
     ]
    },
    {
     "name": "stderr",
     "output_type": "stream",
     "text": [
      "/home/yining/anaconda3/envs/segmentation/lib/python3.8/site-packages/cellpose/metrics.py:205: RuntimeWarning: invalid value encountered in true_divide\n",
      "  iou = overlap / (n_pixels_pred + n_pixels_true - overlap)\n"
     ]
    },
    {
     "name": "stdout",
     "output_type": "stream",
     "text": [
      "Starting N_435_final_crop_ds2\n",
      "Starting N_441_final_crop_ds2\n",
      "Starting N_511_final_crop_ds2\n",
      "Starting N_522_final_crop_ds2\n",
      "Starting N_590_final_crop_ds2\n",
      "Starting N_593_final_crop_ds2\n"
     ]
    }
   ],
   "source": [
    "# cellstitch benchmark\n",
    "data = [] \n",
    "for filename in test_filenames:\n",
    "    print(\"Starting %s\" % filename)\n",
    "    labels = np.load('../data/%s/labels/%s.npy' % (dataset, filename)) \n",
    "    true_num_cells = np.unique(labels).size - 1 \n",
    "    true_avg_vol = get_avg_vol(labels) \n",
    "    \n",
    "    masks = np.load(\"./results/%s/pipeline/cellstitch/%s.npy\" % (dataset, filename))\n",
    "    \n",
    "    num_cells = np.unique(masks).size - 1\n",
    "    d_num_cells = abs(num_cells - true_num_cells) / true_num_cells\n",
    "\n",
    "    avg_vol = get_avg_vol(masks)\n",
    "    d_avg_vol = abs(true_avg_vol - avg_vol) / true_avg_vol\n",
    "\n",
    "    ap, tp, fp, fn = average_precision(labels, masks, ap_threshold)\n",
    "    \n",
    "    row = [ \n",
    "        filename, \n",
    "        d_num_cells, \n",
    "        d_avg_vol, \n",
    "        ap, \n",
    "        tp, \n",
    "        fp, \n",
    "        fn\n",
    "    ]\n",
    "    \n",
    "    data.append(row)\n",
    "\n",
    "ct_df = pd.DataFrame(data, columns=[\n",
    "    \"filename\",  \n",
    "    \"d_num_cells\", \n",
    "    \"d_avg_vol\", \n",
    "    \"ap\", \n",
    "    \"tp\", \n",
    "    \"fp\", \n",
    "    \"fn\"\n",
    "])\n",
    "\n",
    "ct_df.to_csv(\"./results/%s/pipeline/cellstitch.csv\" % dataset, index=False)"
   ]
  },
  {
   "cell_type": "markdown",
   "id": "3f9f242a",
   "metadata": {},
   "source": [
    "### Analyze Results"
   ]
  },
  {
   "cell_type": "code",
   "execution_count": 27,
   "id": "2114be8c",
   "metadata": {},
   "outputs": [],
   "source": [
    "df = pd.read_csv('results/ovules_subsampled/pipeline/plantseg.csv')"
   ]
  },
  {
   "cell_type": "code",
   "execution_count": 28,
   "id": "81c6fed3",
   "metadata": {},
   "outputs": [
    {
     "name": "stderr",
     "output_type": "stream",
     "text": [
      "/tmp/ipykernel_387550/3698961737.py:1: FutureWarning: Dropping of nuisance columns in DataFrame reductions (with 'numeric_only=None') is deprecated; in a future version this will raise TypeError.  Select only valid columns before calling the reduction.\n",
      "  df.mean()\n"
     ]
    },
    {
     "data": {
      "text/plain": [
       "d_num_cells       0.686598\n",
       "d_avg_vol         1.063578\n",
       "ap                0.115152\n",
       "tp              454.857143\n",
       "fp             2129.142857\n",
       "fn             1255.714286\n",
       "dtype: float64"
      ]
     },
     "execution_count": 28,
     "metadata": {},
     "output_type": "execute_result"
    }
   ],
   "source": [
    "df.mean()"
   ]
  },
  {
   "cell_type": "code",
   "execution_count": 29,
   "id": "3ee9d0f9",
   "metadata": {},
   "outputs": [
    {
     "name": "stderr",
     "output_type": "stream",
     "text": [
      "/tmp/ipykernel_387550/3390915376.py:1: FutureWarning: Dropping of nuisance columns in DataFrame reductions (with 'numeric_only=None') is deprecated; in a future version this will raise TypeError.  Select only valid columns before calling the reduction.\n",
      "  df.std()\n"
     ]
    },
    {
     "data": {
      "text/plain": [
       "d_num_cells      0.492997\n",
       "d_avg_vol        0.535862\n",
       "ap               0.035435\n",
       "tp             309.580053\n",
       "fp             926.301504\n",
       "fn             727.763632\n",
       "dtype: float64"
      ]
     },
     "execution_count": 29,
     "metadata": {},
     "output_type": "execute_result"
    }
   ],
   "source": [
    "df.std()"
   ]
  },
  {
   "cell_type": "code",
   "execution_count": null,
   "id": "607bf165",
   "metadata": {},
   "outputs": [],
   "source": []
  }
 ],
 "metadata": {
  "kernelspec": {
   "display_name": "segmentation-aeolus",
   "language": "python",
   "name": "segmentation-aeolus"
  },
  "language_info": {
   "codemirror_mode": {
    "name": "ipython",
    "version": 3
   },
   "file_extension": ".py",
   "mimetype": "text/x-python",
   "name": "python",
   "nbconvert_exporter": "python",
   "pygments_lexer": "ipython3",
   "version": "3.8.13"
  }
 },
 "nbformat": 4,
 "nbformat_minor": 5
}
