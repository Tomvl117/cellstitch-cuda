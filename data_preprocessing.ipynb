{
 "cells": [
  {
   "cell_type": "code",
   "execution_count": 35,
   "id": "7e3921d6",
   "metadata": {},
   "outputs": [],
   "source": [
    "from cellstitch.utils import *\n",
    "import numpy as np\n",
    "import h5py"
   ]
  },
  {
   "cell_type": "markdown",
   "id": "93d0abe2",
   "metadata": {},
   "source": [
    "# Ovules Anistropic Raw Data and Labels"
   ]
  },
  {
   "cell_type": "code",
   "execution_count": 1,
   "id": "eecf7af4",
   "metadata": {},
   "outputs": [],
   "source": [
    "ovules_path = \"../data/ovules/\""
   ]
  },
  {
   "cell_type": "code",
   "execution_count": 2,
   "id": "dea5d108",
   "metadata": {},
   "outputs": [],
   "source": [
    "subsampled_ovules_path = \"../data/ovules_subsampled/\""
   ]
  },
  {
   "cell_type": "code",
   "execution_count": 4,
   "id": "1b135a8b",
   "metadata": {},
   "outputs": [],
   "source": [
    "filenames = get_filenames(ovules_path + \"raw\")"
   ]
  },
  {
   "cell_type": "code",
   "execution_count": 7,
   "id": "35ca0bd1",
   "metadata": {},
   "outputs": [
    {
     "data": {
      "text/plain": [
       "['N_422_ds2x.npy',\n",
       " 'N_457_ds2x.npy',\n",
       " 'N_590_final_crop_ds2.npy',\n",
       " 'N_405_B_ds2x.npy',\n",
       " 'N_522_final_crop_ds2.npy',\n",
       " 'N_464_ds2x.npy',\n",
       " 'N_534_ds2x.npy',\n",
       " 'N_454_ds2x.npy',\n",
       " 'N_445_ds2x.npy',\n",
       " 'N_517_ds2x.npy',\n",
       " 'N_509_ds2x.npy',\n",
       " 'N_425_ds2x.npy',\n",
       " 'N_536_ds2x.npy',\n",
       " 'N_435_final_crop_ds2.npy',\n",
       " 'N_487_ds2x.npy',\n",
       " 'N_535_ds2x.npy',\n",
       " 'N_416_ds2x.npy',\n",
       " 'N_511_final_crop_ds2.npy',\n",
       " 'N_512_ds2x.npy',\n",
       " 'N_420_ds2x.npy',\n",
       " 'N_294_final_crop_ds2.npy',\n",
       " 'N_405_A_ds2x.npy',\n",
       " 'N_428_ds2x.npy',\n",
       " 'N_440_ds2x.npy',\n",
       " 'N_449_ds2x.npy',\n",
       " 'N_404_ds2x.npy',\n",
       " 'N_458_ds2x.npy',\n",
       " 'N_450_ds2x.npy',\n",
       " 'N_441_final_crop_ds2.npy',\n",
       " 'N_451_ds2x.npy',\n",
       " 'N_593_final_crop_ds2.npy']"
      ]
     },
     "execution_count": 7,
     "metadata": {},
     "output_type": "execute_result"
    }
   ],
   "source": [
    "filenames"
   ]
  },
  {
   "cell_type": "code",
   "execution_count": 20,
   "id": "298dcf5d",
   "metadata": {},
   "outputs": [],
   "source": [
    "anistropy = 2"
   ]
  },
  {
   "cell_type": "code",
   "execution_count": 30,
   "id": "bf1c3a7a",
   "metadata": {},
   "outputs": [],
   "source": [
    "for filename in filenames: \n",
    "    raw = np.load(\"%sraw/%s\" % (ovules_path, filename))\n",
    "    labels = np.load(\"%slabels/%s\" % (ovules_path, filename))\n",
    "    depth = raw.shape[0]\n",
    "    \n",
    "    subsampled_raw = [] \n",
    "    subsampled_labels = []\n",
    "    for i in range(0, depth, anistropy):\n",
    "        subsampled_raw.append(raw[i])\n",
    "        subsampled_labels.append(labels[i])\n",
    "    \n",
    "    subsampled_raw = np.array(subsampled_raw) \n",
    "    subsampled_labels = np.array(subsampled_labels)\n",
    "    \n",
    "    np.save(\"%sraw/%s\" % (subsampled_ovules_path, filename), subsampled_raw)\n",
    "    np.save(\"%slabels/%s\" % (subsampled_ovules_path, filename), subsampled_labels)"
   ]
  },
  {
   "cell_type": "markdown",
   "id": "2c13debf",
   "metadata": {},
   "source": [
    "### Test Data for PlantSeg"
   ]
  },
  {
   "cell_type": "code",
   "execution_count": 31,
   "id": "32d56c13",
   "metadata": {},
   "outputs": [],
   "source": [
    "subsampled_plantseg_test_path = \"../data/ovules_subsampled/plantseg_test/\"\n",
    "plantseg_test_path = \"../data/ovules/plantseg_test/\""
   ]
  },
  {
   "cell_type": "code",
   "execution_count": 32,
   "id": "fcb3051e",
   "metadata": {},
   "outputs": [],
   "source": [
    "test_filenames = [\"N_294_final_crop_ds2\", \n",
    "                 \"N_435_final_crop_ds2\",\n",
    "                 \"N_441_final_crop_ds2\",\n",
    "                 \"N_511_final_crop_ds2\",\n",
    "                 \"N_522_final_crop_ds2\",\n",
    "                 \"N_590_final_crop_ds2\",\n",
    "                 \"N_593_final_crop_ds2\"]"
   ]
  },
  {
   "cell_type": "code",
   "execution_count": 34,
   "id": "da0098da",
   "metadata": {},
   "outputs": [],
   "source": [
    "test_filename = test_filenames[0]"
   ]
  },
  {
   "cell_type": "code",
   "execution_count": 51,
   "id": "4e9c53f1",
   "metadata": {},
   "outputs": [],
   "source": [
    "for test_filename in test_filenames: \n",
    "    with h5py.File(\"%s/%s.h5\" % (plantseg_test_path, test_filename), \"r\") as f:\n",
    "        labels = f['label'][:]\n",
    "        raw = f['raw'][:]\n",
    "    \n",
    "    depth = raw.shape[0]\n",
    "    \n",
    "    subsampled_raw = [] \n",
    "    subsampled_labels = []\n",
    "    for i in range(0, depth, anistropy):\n",
    "        subsampled_raw.append(raw[i])\n",
    "        subsampled_labels.append(labels[i])\n",
    "\n",
    "    subsampled_raw = np.array(subsampled_raw) \n",
    "    subsampled_labels = np.array(subsampled_labels)\n",
    "    \n",
    "    with h5py.File(\"%s/%s.h5\" % (subsampled_plantseg_test_path, test_filename), 'w') as hf:\n",
    "        hf.create_dataset(\"label\",  data=subsampled_labels)\n",
    "        hf.create_dataset(\"raw\",  data=subsampled_raw)"
   ]
  },
  {
   "cell_type": "code",
   "execution_count": null,
   "id": "b7089b1f",
   "metadata": {},
   "outputs": [],
   "source": []
  }
 ],
 "metadata": {
  "kernelspec": {
   "display_name": "segmentation-aeolus",
   "language": "python",
   "name": "segmentation-aeolus"
  },
  "language_info": {
   "codemirror_mode": {
    "name": "ipython",
    "version": 3
   },
   "file_extension": ".py",
   "mimetype": "text/x-python",
   "name": "python",
   "nbconvert_exporter": "python",
   "pygments_lexer": "ipython3",
   "version": "3.8.13"
  }
 },
 "nbformat": 4,
 "nbformat_minor": 5
}
